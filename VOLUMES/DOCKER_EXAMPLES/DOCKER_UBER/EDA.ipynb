{
 "cells": [
  {
   "cell_type": "code",
   "execution_count": 1,
   "metadata": {},
   "outputs": [],
   "source": [
    "from pyspark.sql import SparkSession"
   ]
  },
  {
   "cell_type": "code",
   "execution_count": 45,
   "metadata": {},
   "outputs": [],
   "source": [
    "import matplotlib.pyplot as plt"
   ]
  },
  {
   "cell_type": "code",
   "execution_count": 68,
   "metadata": {},
   "outputs": [],
   "source": [
    "import seaborn as sns"
   ]
  },
  {
   "cell_type": "code",
   "execution_count": 69,
   "metadata": {},
   "outputs": [],
   "source": [
    "import pandas as pd"
   ]
  },
  {
   "cell_type": "code",
   "execution_count": 2,
   "metadata": {},
   "outputs": [],
   "source": [
    "spark = SparkSession.builder.config(\"spark.sql.adaptive.enabled\", \"True\").getOrCreate()"
   ]
  },
  {
   "cell_type": "code",
   "execution_count": 14,
   "metadata": {},
   "outputs": [],
   "source": [
    "fn = 'uber-raw-data-apr14.csv'\n",
    "apr_df = spark.read.csv(fn, inferSchema=True, header=True, timestampFormat = \"yyyy/MM/dd HH:mm:ss\")"
   ]
  },
  {
   "cell_type": "code",
   "execution_count": 15,
   "metadata": {},
   "outputs": [
    {
     "name": "stdout",
     "output_type": "stream",
     "text": [
      "+----------------+-------+--------+------+\n",
      "|       Date/Time|    Lat|     Lon|  Base|\n",
      "+----------------+-------+--------+------+\n",
      "|4/1/2014 0:11:00| 40.769|-73.9549|B02512|\n",
      "|4/1/2014 0:17:00|40.7267|-74.0345|B02512|\n",
      "|4/1/2014 0:21:00|40.7316|-73.9873|B02512|\n",
      "|4/1/2014 0:28:00|40.7588|-73.9776|B02512|\n",
      "|4/1/2014 0:33:00|40.7594|-73.9722|B02512|\n",
      "|4/1/2014 0:33:00|40.7383|-74.0403|B02512|\n",
      "|4/1/2014 0:39:00|40.7223|-73.9887|B02512|\n",
      "|4/1/2014 0:45:00| 40.762| -73.979|B02512|\n",
      "|4/1/2014 0:55:00|40.7524| -73.996|B02512|\n",
      "|4/1/2014 1:01:00|40.7575|-73.9846|B02512|\n",
      "|4/1/2014 1:19:00|40.7256|-73.9869|B02512|\n",
      "|4/1/2014 1:48:00|40.7591|-73.9684|B02512|\n",
      "|4/1/2014 1:49:00|40.7271|-73.9803|B02512|\n",
      "|4/1/2014 2:11:00|40.6463|-73.7896|B02512|\n",
      "|4/1/2014 2:25:00|40.7564|-73.9167|B02512|\n",
      "|4/1/2014 2:31:00|40.7666|-73.9531|B02512|\n",
      "|4/1/2014 2:43:00| 40.758|-73.9761|B02512|\n",
      "|4/1/2014 3:22:00|40.7238|-73.9821|B02512|\n",
      "|4/1/2014 3:35:00|40.7531|-74.0039|B02512|\n",
      "|4/1/2014 3:35:00|40.7389|-74.0393|B02512|\n",
      "+----------------+-------+--------+------+\n",
      "only showing top 20 rows\n",
      "\n"
     ]
    }
   ],
   "source": [
    "apr_df.show()"
   ]
  },
  {
   "cell_type": "code",
   "execution_count": 4,
   "metadata": {},
   "outputs": [],
   "source": [
    "lu_df = spark.read.csv('taxi-zone-lookup.csv', inferSchema=True, header=True)"
   ]
  },
  {
   "cell_type": "code",
   "execution_count": 9,
   "metadata": {},
   "outputs": [
    {
     "data": {
      "text/plain": [
       "265"
      ]
     },
     "execution_count": 9,
     "metadata": {},
     "output_type": "execute_result"
    }
   ],
   "source": [
    "lu_df.count()"
   ]
  },
  {
   "cell_type": "code",
   "execution_count": 5,
   "metadata": {},
   "outputs": [
    {
     "name": "stdout",
     "output_type": "stream",
     "text": [
      "+----------+-------------+--------------------+\n",
      "|LocationID|      Borough|                Zone|\n",
      "+----------+-------------+--------------------+\n",
      "|         1|          EWR|      Newark Airport|\n",
      "|         2|       Queens|         Jamaica Bay|\n",
      "|         3|        Bronx|Allerton/Pelham G...|\n",
      "|         4|    Manhattan|       Alphabet City|\n",
      "|         5|Staten Island|       Arden Heights|\n",
      "|         6|Staten Island|Arrochar/Fort Wad...|\n",
      "|         7|       Queens|             Astoria|\n",
      "|         8|       Queens|        Astoria Park|\n",
      "|         9|       Queens|          Auburndale|\n",
      "|        10|       Queens|        Baisley Park|\n",
      "|        11|     Brooklyn|          Bath Beach|\n",
      "|        12|    Manhattan|        Battery Park|\n",
      "|        13|    Manhattan|   Battery Park City|\n",
      "|        14|     Brooklyn|           Bay Ridge|\n",
      "|        15|       Queens|Bay Terrace/Fort ...|\n",
      "|        16|       Queens|             Bayside|\n",
      "|        17|     Brooklyn|             Bedford|\n",
      "|        18|        Bronx|        Bedford Park|\n",
      "|        19|       Queens|           Bellerose|\n",
      "|        20|        Bronx|             Belmont|\n",
      "+----------+-------------+--------------------+\n",
      "only showing top 20 rows\n",
      "\n"
     ]
    }
   ],
   "source": [
    "lu_df.show()"
   ]
  },
  {
   "cell_type": "code",
   "execution_count": 7,
   "metadata": {},
   "outputs": [],
   "source": [
    "raw_df = spark.read.csv('uber-raw-data-janjune-15.csv', inferSchema=True, header=True)\n"
   ]
  },
  {
   "cell_type": "code",
   "execution_count": 10,
   "metadata": {},
   "outputs": [
    {
     "data": {
      "text/plain": [
       "14270479"
      ]
     },
     "execution_count": 10,
     "metadata": {},
     "output_type": "execute_result"
    }
   ],
   "source": [
    "raw_df.count()"
   ]
  },
  {
   "cell_type": "code",
   "execution_count": 8,
   "metadata": {},
   "outputs": [
    {
     "name": "stdout",
     "output_type": "stream",
     "text": [
      "+--------------------+-------------------+-------------------+----------+\n",
      "|Dispatching_base_num|        Pickup_date|Affiliated_base_num|locationID|\n",
      "+--------------------+-------------------+-------------------+----------+\n",
      "|              B02617|2015-05-17 09:47:00|             B02617|       141|\n",
      "|              B02617|2015-05-17 09:47:00|             B02617|        65|\n",
      "|              B02617|2015-05-17 09:47:00|             B02617|       100|\n",
      "|              B02617|2015-05-17 09:47:00|             B02774|        80|\n",
      "|              B02617|2015-05-17 09:47:00|             B02617|        90|\n",
      "+--------------------+-------------------+-------------------+----------+\n",
      "only showing top 5 rows\n",
      "\n"
     ]
    }
   ],
   "source": [
    "raw_df.show(5)"
   ]
  },
  {
   "cell_type": "code",
   "execution_count": 16,
   "metadata": {},
   "outputs": [],
   "source": [
    "from pyspark.ml.feature import VectorAssembler"
   ]
  },
  {
   "cell_type": "code",
   "execution_count": 27,
   "metadata": {},
   "outputs": [],
   "source": [
    "va = VectorAssembler(inputCols=[\"Lat\",\"Lon\"],outputCol=\"features\")"
   ]
  },
  {
   "cell_type": "code",
   "execution_count": 28,
   "metadata": {},
   "outputs": [],
   "source": [
    "df = va.transform(apr_df)"
   ]
  },
  {
   "cell_type": "code",
   "execution_count": 29,
   "metadata": {},
   "outputs": [
    {
     "name": "stdout",
     "output_type": "stream",
     "text": [
      "+----------------+-------+--------+------+------------------+\n",
      "|       Date/Time|    Lat|     Lon|  Base|          features|\n",
      "+----------------+-------+--------+------+------------------+\n",
      "|4/1/2014 0:11:00| 40.769|-73.9549|B02512| [40.769,-73.9549]|\n",
      "|4/1/2014 0:17:00|40.7267|-74.0345|B02512|[40.7267,-74.0345]|\n",
      "|4/1/2014 0:21:00|40.7316|-73.9873|B02512|[40.7316,-73.9873]|\n",
      "|4/1/2014 0:28:00|40.7588|-73.9776|B02512|[40.7588,-73.9776]|\n",
      "|4/1/2014 0:33:00|40.7594|-73.9722|B02512|[40.7594,-73.9722]|\n",
      "|4/1/2014 0:33:00|40.7383|-74.0403|B02512|[40.7383,-74.0403]|\n",
      "|4/1/2014 0:39:00|40.7223|-73.9887|B02512|[40.7223,-73.9887]|\n",
      "|4/1/2014 0:45:00| 40.762| -73.979|B02512|  [40.762,-73.979]|\n",
      "|4/1/2014 0:55:00|40.7524| -73.996|B02512| [40.7524,-73.996]|\n",
      "|4/1/2014 1:01:00|40.7575|-73.9846|B02512|[40.7575,-73.9846]|\n",
      "|4/1/2014 1:19:00|40.7256|-73.9869|B02512|[40.7256,-73.9869]|\n",
      "|4/1/2014 1:48:00|40.7591|-73.9684|B02512|[40.7591,-73.9684]|\n",
      "|4/1/2014 1:49:00|40.7271|-73.9803|B02512|[40.7271,-73.9803]|\n",
      "|4/1/2014 2:11:00|40.6463|-73.7896|B02512|[40.6463,-73.7896]|\n",
      "|4/1/2014 2:25:00|40.7564|-73.9167|B02512|[40.7564,-73.9167]|\n",
      "|4/1/2014 2:31:00|40.7666|-73.9531|B02512|[40.7666,-73.9531]|\n",
      "|4/1/2014 2:43:00| 40.758|-73.9761|B02512| [40.758,-73.9761]|\n",
      "|4/1/2014 3:22:00|40.7238|-73.9821|B02512|[40.7238,-73.9821]|\n",
      "|4/1/2014 3:35:00|40.7531|-74.0039|B02512|[40.7531,-74.0039]|\n",
      "|4/1/2014 3:35:00|40.7389|-74.0393|B02512|[40.7389,-74.0393]|\n",
      "+----------------+-------+--------+------+------------------+\n",
      "only showing top 20 rows\n",
      "\n"
     ]
    }
   ],
   "source": [
    "df.show()"
   ]
  },
  {
   "cell_type": "code",
   "execution_count": 30,
   "metadata": {},
   "outputs": [],
   "source": [
    "from pyspark.ml.clustering import KMeans"
   ]
  },
  {
   "cell_type": "code",
   "execution_count": 54,
   "metadata": {},
   "outputs": [],
   "source": [
    "km_model = KMeans(k=6).fit(df)"
   ]
  },
  {
   "cell_type": "code",
   "execution_count": 55,
   "metadata": {},
   "outputs": [],
   "source": [
    "fit_df = km_model.transform(df)"
   ]
  },
  {
   "cell_type": "code",
   "execution_count": 56,
   "metadata": {},
   "outputs": [
    {
     "name": "stdout",
     "output_type": "stream",
     "text": [
      "+----------------+-------+--------+------+------------------+----------+\n",
      "|       Date/Time|    Lat|     Lon|  Base|          features|prediction|\n",
      "+----------------+-------+--------+------+------------------+----------+\n",
      "|4/1/2014 0:11:00| 40.769|-73.9549|B02512| [40.769,-73.9549]|         0|\n",
      "|4/1/2014 0:17:00|40.7267|-74.0345|B02512|[40.7267,-74.0345]|         1|\n",
      "|4/1/2014 0:21:00|40.7316|-73.9873|B02512|[40.7316,-73.9873]|         1|\n",
      "|4/1/2014 0:28:00|40.7588|-73.9776|B02512|[40.7588,-73.9776]|         0|\n",
      "|4/1/2014 0:33:00|40.7594|-73.9722|B02512|[40.7594,-73.9722]|         0|\n",
      "|4/1/2014 0:33:00|40.7383|-74.0403|B02512|[40.7383,-74.0403]|         1|\n",
      "|4/1/2014 0:39:00|40.7223|-73.9887|B02512|[40.7223,-73.9887]|         1|\n",
      "|4/1/2014 0:45:00| 40.762| -73.979|B02512|  [40.762,-73.979]|         0|\n",
      "|4/1/2014 0:55:00|40.7524| -73.996|B02512| [40.7524,-73.996]|         1|\n",
      "|4/1/2014 1:01:00|40.7575|-73.9846|B02512|[40.7575,-73.9846]|         0|\n",
      "|4/1/2014 1:19:00|40.7256|-73.9869|B02512|[40.7256,-73.9869]|         1|\n",
      "|4/1/2014 1:48:00|40.7591|-73.9684|B02512|[40.7591,-73.9684]|         0|\n",
      "|4/1/2014 1:49:00|40.7271|-73.9803|B02512|[40.7271,-73.9803]|         1|\n",
      "|4/1/2014 2:11:00|40.6463|-73.7896|B02512|[40.6463,-73.7896]|         2|\n",
      "|4/1/2014 2:25:00|40.7564|-73.9167|B02512|[40.7564,-73.9167]|         0|\n",
      "|4/1/2014 2:31:00|40.7666|-73.9531|B02512|[40.7666,-73.9531]|         0|\n",
      "|4/1/2014 2:43:00| 40.758|-73.9761|B02512| [40.758,-73.9761]|         0|\n",
      "|4/1/2014 3:22:00|40.7238|-73.9821|B02512|[40.7238,-73.9821]|         1|\n",
      "|4/1/2014 3:35:00|40.7531|-74.0039|B02512|[40.7531,-74.0039]|         1|\n",
      "|4/1/2014 3:35:00|40.7389|-74.0393|B02512|[40.7389,-74.0393]|         1|\n",
      "+----------------+-------+--------+------+------------------+----------+\n",
      "only showing top 20 rows\n",
      "\n"
     ]
    }
   ],
   "source": [
    "fit_df.show()"
   ]
  },
  {
   "cell_type": "code",
   "execution_count": 83,
   "metadata": {},
   "outputs": [],
   "source": [
    "cent = km_model.clusterCenters()"
   ]
  },
  {
   "cell_type": "code",
   "execution_count": 84,
   "metadata": {},
   "outputs": [],
   "source": [
    "cent_pd_df = pd.DataFrame(cent,columns=['Lat',\"Lon\"])"
   ]
  },
  {
   "cell_type": "code",
   "execution_count": 85,
   "metadata": {},
   "outputs": [],
   "source": [
    "cent_pd_df['Base'] = 'CENTROID'\n",
    "cent_pd_df['prediction'] = 'CENTROID'"
   ]
  },
  {
   "cell_type": "code",
   "execution_count": 86,
   "metadata": {},
   "outputs": [],
   "source": [
    "cent_pd_df.to_csv('cent.csv')"
   ]
  },
  {
   "cell_type": "code",
   "execution_count": 58,
   "metadata": {},
   "outputs": [],
   "source": [
    "fit_df_pd = fit_df.toPandas()"
   ]
  },
  {
   "cell_type": "code",
   "execution_count": 80,
   "metadata": {},
   "outputs": [
    {
     "data": {
      "text/html": [
       "<div>\n",
       "<style scoped>\n",
       "    .dataframe tbody tr th:only-of-type {\n",
       "        vertical-align: middle;\n",
       "    }\n",
       "\n",
       "    .dataframe tbody tr th {\n",
       "        vertical-align: top;\n",
       "    }\n",
       "\n",
       "    .dataframe thead th {\n",
       "        text-align: right;\n",
       "    }\n",
       "</style>\n",
       "<table border=\"1\" class=\"dataframe\">\n",
       "  <thead>\n",
       "    <tr style=\"text-align: right;\">\n",
       "      <th></th>\n",
       "      <th>Lat</th>\n",
       "      <th>Lon</th>\n",
       "      <th>Base</th>\n",
       "    </tr>\n",
       "  </thead>\n",
       "  <tbody>\n",
       "    <tr>\n",
       "      <th>0</th>\n",
       "      <td>40.7690</td>\n",
       "      <td>-73.9549</td>\n",
       "      <td>B02512</td>\n",
       "    </tr>\n",
       "    <tr>\n",
       "      <th>1</th>\n",
       "      <td>40.7267</td>\n",
       "      <td>-74.0345</td>\n",
       "      <td>B02512</td>\n",
       "    </tr>\n",
       "    <tr>\n",
       "      <th>2</th>\n",
       "      <td>40.7316</td>\n",
       "      <td>-73.9873</td>\n",
       "      <td>B02512</td>\n",
       "    </tr>\n",
       "    <tr>\n",
       "      <th>3</th>\n",
       "      <td>40.7588</td>\n",
       "      <td>-73.9776</td>\n",
       "      <td>B02512</td>\n",
       "    </tr>\n",
       "    <tr>\n",
       "      <th>4</th>\n",
       "      <td>40.7594</td>\n",
       "      <td>-73.9722</td>\n",
       "      <td>B02512</td>\n",
       "    </tr>\n",
       "    <tr>\n",
       "      <th>...</th>\n",
       "      <td>...</td>\n",
       "      <td>...</td>\n",
       "      <td>...</td>\n",
       "    </tr>\n",
       "    <tr>\n",
       "      <th>564511</th>\n",
       "      <td>40.7640</td>\n",
       "      <td>-73.9744</td>\n",
       "      <td>B02764</td>\n",
       "    </tr>\n",
       "    <tr>\n",
       "      <th>564512</th>\n",
       "      <td>40.7629</td>\n",
       "      <td>-73.9672</td>\n",
       "      <td>B02764</td>\n",
       "    </tr>\n",
       "    <tr>\n",
       "      <th>564513</th>\n",
       "      <td>40.7443</td>\n",
       "      <td>-73.9889</td>\n",
       "      <td>B02764</td>\n",
       "    </tr>\n",
       "    <tr>\n",
       "      <th>564514</th>\n",
       "      <td>40.6756</td>\n",
       "      <td>-73.9405</td>\n",
       "      <td>B02764</td>\n",
       "    </tr>\n",
       "    <tr>\n",
       "      <th>564515</th>\n",
       "      <td>40.6880</td>\n",
       "      <td>-73.9608</td>\n",
       "      <td>B02764</td>\n",
       "    </tr>\n",
       "  </tbody>\n",
       "</table>\n",
       "<p>564516 rows × 3 columns</p>\n",
       "</div>"
      ],
      "text/plain": [
       "            Lat      Lon    Base\n",
       "0       40.7690 -73.9549  B02512\n",
       "1       40.7267 -74.0345  B02512\n",
       "2       40.7316 -73.9873  B02512\n",
       "3       40.7588 -73.9776  B02512\n",
       "4       40.7594 -73.9722  B02512\n",
       "...         ...      ...     ...\n",
       "564511  40.7640 -73.9744  B02764\n",
       "564512  40.7629 -73.9672  B02764\n",
       "564513  40.7443 -73.9889  B02764\n",
       "564514  40.6756 -73.9405  B02764\n",
       "564515  40.6880 -73.9608  B02764\n",
       "\n",
       "[564516 rows x 3 columns]"
      ]
     },
     "execution_count": 80,
     "metadata": {},
     "output_type": "execute_result"
    }
   ],
   "source": [
    "fit_df_pd[['Lat','Lon','Base']]"
   ]
  },
  {
   "cell_type": "code",
   "execution_count": 60,
   "metadata": {},
   "outputs": [
    {
     "data": {
      "text/plain": [
       "<AxesSubplot:xlabel='Lat', ylabel='Lon'>"
      ]
     },
     "execution_count": 60,
     "metadata": {},
     "output_type": "execute_result"
    },
    {
     "data": {
      "image/png": "[encoded data removed]",
      "text/plain": [
       "<Figure size 432x288 with 1 Axes>"
      ]
     },
     "metadata": {
      "needs_background": "light"
     },
     "output_type": "display_data"
    }
   ],
   "source": [
    "sns.scatterplot(x='Lat', y='Lon', data=fit_df_pd, hue='prediction')"
   ]
  },
  {
   "cell_type": "code",
   "execution_count": 82,
   "metadata": {},
   "outputs": [],
   "source": [
    "fit_df_pd[['Lat','Lon','Base','prediction']].to_csv('PRED.csv')"
   ]
  },
  {
   "cell_type": "code",
   "execution_count": null,
   "metadata": {},
   "outputs": [],
   "source": []
  }
 ],
 "metadata": {
  "kernelspec": {
   "display_name": "Python 3",
   "language": "python",
   "name": "python3"
  },
  "language_info": {
   "codemirror_mode": {
    "name": "ipython",
    "version": 3
   },
   "file_extension": ".py",
   "mimetype": "text/x-python",
   "name": "python",
   "nbconvert_exporter": "python",
   "pygments_lexer": "ipython3",
   "version": "3.7.7"
  }
 },
 "nbformat": 4,
 "nbformat_minor": 4
}

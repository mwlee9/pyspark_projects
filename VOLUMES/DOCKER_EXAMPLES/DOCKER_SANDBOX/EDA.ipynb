{
 "cells": [
  {
   "cell_type": "code",
   "execution_count": null,
   "metadata": {},
   "outputs": [],
   "source": [
    "pip install pyarrow"
   ]
  },
  {
   "cell_type": "code",
   "execution_count": null,
   "metadata": {},
   "outputs": [],
   "source": [
    "%config Completer.use_jedi = False\n",
    "import seaborn as sns\n",
    "import matplotlib.pyplot as plt"
   ]
  },
  {
   "cell_type": "code",
   "execution_count": null,
   "metadata": {},
   "outputs": [],
   "source": [
    "import pandas as pd"
   ]
  },
  {
   "cell_type": "code",
   "execution_count": null,
   "metadata": {},
   "outputs": [],
   "source": [
    "from pyspark.sql import SparkSession\n",
    "from pyspark.sql import functions as f\n",
    "from pyspark.sql import types\n",
    "from pyspark import StorageLevel\n",
    "from pyspark.sql import Window"
   ]
  },
  {
   "cell_type": "code",
   "execution_count": null,
   "metadata": {},
   "outputs": [],
   "source": [
    "spark = SparkSession.builder.getOrCreate()"
   ]
  },
  {
   "cell_type": "code",
   "execution_count": null,
   "metadata": {},
   "outputs": [],
   "source": [
    "train_df = spark.read.csv('train.csv', header=True, inferSchema=True)\n",
    "test_df = spark.read.csv('test.csv', header=True, inferSchema=True)"
   ]
  },
  {
   "cell_type": "markdown",
   "metadata": {},
   "source": [
    "# General Studies"
   ]
  },
  {
   "cell_type": "code",
   "execution_count": null,
   "metadata": {},
   "outputs": [],
   "source": []
  },
  {
   "cell_type": "markdown",
   "metadata": {},
   "source": [
    "# Test 1"
   ]
  },
  {
   "cell_type": "code",
   "execution_count": null,
   "metadata": {},
   "outputs": [],
   "source": []
  },
  {
   "cell_type": "markdown",
   "metadata": {},
   "source": [
    "# Test 2"
   ]
  },
  {
   "cell_type": "code",
   "execution_count": null,
   "metadata": {},
   "outputs": [],
   "source": [
    "### to_date not toDate. f. functions mostely have underscores.\n",
    "train_df = train_df.withColumn('test_date', f.to_date(f.lit(\"2021-02-14\"),'yyyy-mm-dd'))"
   ]
  },
  {
   "cell_type": "code",
   "execution_count": null,
   "metadata": {},
   "outputs": [],
   "source": [
    "### See SQL API for expr usage. approx_count_distinct(name) or count(distinct name)\n",
    "### https://spark.apache.org/docs/latest/api/sql/index.html\n",
    "# gdf = train_df.groupBy('Survived').agg(f.expr('count(distinct Sex)'))"
   ]
  },
  {
   "cell_type": "code",
   "execution_count": null,
   "metadata": {},
   "outputs": [],
   "source": [
    "### There is no read.view\n",
    "# df.createOrReplaceTempView('my_view')\n",
    "# spark.read.table(\"my_view\").show()"
   ]
  },
  {
   "cell_type": "code",
   "execution_count": null,
   "metadata": {},
   "outputs": [],
   "source": [
    "### Map vs Flat Map. Both are narrow xforms and lazy eval.\n",
    "### https://stackoverflow.com/questions/22350722/what-is-the-difference-between-map-and-flatmap-and-a-good-use-case-for-each"
   ]
  },
  {
   "cell_type": "code",
   "execution_count": null,
   "metadata": {},
   "outputs": [],
   "source": [
    "# schema = types.StructType([types.StructField('name',types.StringType(),True)])\n",
    "# schema.add('new_col', types.StringType(),True)"
   ]
  },
  {
   "cell_type": "code",
   "execution_count": null,
   "metadata": {},
   "outputs": [],
   "source": [
    "df = spark.createDataFrame([(\"A\", 20), (\"B\", 30), (\"D\", 80), ('E', None)],[\"Letter\", \"Number\"])"
   ]
  },
  {
   "cell_type": "code",
   "execution_count": null,
   "metadata": {},
   "outputs": [],
   "source": [
    "# df.show()\n",
    "# df.groupBy().sum().collect()[0][0]\n",
    "# df.groupBy().sum().collect()"
   ]
  },
  {
   "cell_type": "code",
   "execution_count": null,
   "metadata": {},
   "outputs": [],
   "source": [
    "# sc = spark.sparkContext\n",
    "# ac = sc.accumulator(1)"
   ]
  },
  {
   "cell_type": "code",
   "execution_count": null,
   "metadata": {},
   "outputs": [],
   "source": [
    "# df.show()"
   ]
  },
  {
   "cell_type": "code",
   "execution_count": null,
   "metadata": {},
   "outputs": [],
   "source": [
    "### df.dropna()\n",
    "### df.na.drop()\n",
    "# df.na.drop().show()"
   ]
  },
  {
   "cell_type": "code",
   "execution_count": null,
   "metadata": {},
   "outputs": [],
   "source": [
    "### https://stackoverflow.com/questions/44002128/when-are-cache-and-persist-executed-since-they-dont-seem-like-actions\n",
    "### Cache and repart are lazyily evaluated. cache is not a xform or action, repart is a xform. Repart is wide.\n",
    "# df.persist(storageLevel=StorageLevel(True,True,True,False,2)).collect()\n",
    "# df.cache().collect()\n",
    "# df.storageLevel\n",
    "# df.unpersist().collect()"
   ]
  },
  {
   "cell_type": "code",
   "execution_count": null,
   "metadata": {},
   "outputs": [],
   "source": [
    "### With a managed table, because Spark manages everything, a SQL command such as\n",
    "### DROP TABLE table_name deletes both the metadata and the data. With an unmanaged\n",
    "### table, the same command will delete only the metadata, not the actual data.\n",
    "\n",
    "### views disappear after\n",
    "### your Spark application terminates.\n",
    "# spark.catalog.createTable('test') #blank tbl\n",
    "# spark.catalog.dropTempView('test')\n",
    "### There is no Drop table method on the catalog property/class - must use sql.\n",
    "# spark.sql('DROP TABLE test purge')\n",
    "# df.write.saveAsTable(\"test\", mode='overwrite')\n",
    "# df.createOrReplaceTempView('temp')"
   ]
  },
  {
   "cell_type": "code",
   "execution_count": null,
   "metadata": {},
   "outputs": [],
   "source": [
    "# df.rdd.getNumPartitions()"
   ]
  },
  {
   "cell_type": "code",
   "execution_count": null,
   "metadata": {},
   "outputs": [],
   "source": [
    "# df = df.repartition(8)\n",
    "# # df = df.coalesce(2)\n",
    "# df.collect()\n",
    "# df.rdd.getNumPartitions()\n"
   ]
  },
  {
   "cell_type": "code",
   "execution_count": null,
   "metadata": {},
   "outputs": [],
   "source": [
    "# df = df.withColumn('PART_ID',f.spark_partition_id())\n",
    "# df.select('PART_ID').groupby('PART_ID').count().show()"
   ]
  },
  {
   "cell_type": "code",
   "execution_count": null,
   "metadata": {},
   "outputs": [],
   "source": [
    "# df.sample(True, fraction=.5).show()"
   ]
  },
  {
   "cell_type": "code",
   "execution_count": null,
   "metadata": {},
   "outputs": [],
   "source": [
    "# df.dtypes"
   ]
  },
  {
   "cell_type": "code",
   "execution_count": null,
   "metadata": {},
   "outputs": [],
   "source": [
    "# def squared(x):\n",
    "#     if x == None:\n",
    "#         x = 0\n",
    "#         return x\n",
    "#     else:\n",
    "#         return x*x\n",
    "\n",
    "# spark.udf.register('square', squared)\n",
    "# spark.sql(\"SELECT square(`Number`) FROM temp\").show()"
   ]
  },
  {
   "cell_type": "code",
   "execution_count": null,
   "metadata": {},
   "outputs": [],
   "source": [
    "# df.orderBy(f.desc_nulls_last('Number')).show()"
   ]
  },
  {
   "cell_type": "code",
   "execution_count": null,
   "metadata": {},
   "outputs": [],
   "source": [
    "### There is no takeAll - so would not cache right away\n",
    "# df.take(2)"
   ]
  },
  {
   "cell_type": "code",
   "execution_count": null,
   "metadata": {},
   "outputs": [],
   "source": [
    "# df.show(truncate=False)"
   ]
  },
  {
   "cell_type": "code",
   "execution_count": null,
   "metadata": {},
   "outputs": [],
   "source": [
    "# def fx(x):\n",
    "#     print(x)\n",
    "# print(df.foreach(fx))"
   ]
  },
  {
   "cell_type": "code",
   "execution_count": null,
   "metadata": {},
   "outputs": [],
   "source": [
    "# df.first()"
   ]
  },
  {
   "cell_type": "code",
   "execution_count": null,
   "metadata": {},
   "outputs": [],
   "source": [
    "# df = spark.createDataFrame([(\"A\", 20), (\"B\", 30), (\"D\", 80), ('E', None)],[\"Letter\", \"Number\"])"
   ]
  },
  {
   "cell_type": "code",
   "execution_count": null,
   "metadata": {},
   "outputs": [],
   "source": [
    "# df = df.repartition(100)\n",
    "# # df = df.coalesce(3)\n",
    "# df.collect()\n",
    "# df.rdd.getNumPartitions()"
   ]
  },
  {
   "cell_type": "code",
   "execution_count": null,
   "metadata": {},
   "outputs": [],
   "source": [
    "# df.write.csv('TEST',mode='overwrite')"
   ]
  },
  {
   "cell_type": "code",
   "execution_count": null,
   "metadata": {},
   "outputs": [],
   "source": [
    "# df = df.withColumn('Number', df['Number'].cast(types.StringType()))"
   ]
  },
  {
   "cell_type": "code",
   "execution_count": null,
   "metadata": {},
   "outputs": [],
   "source": [
    "# df.select('Number').write.text('test.txt', mode='overwrite')"
   ]
  },
  {
   "cell_type": "code",
   "execution_count": null,
   "metadata": {},
   "outputs": [],
   "source": [
    "# df.select('Number').where((f.col('Number') != 0) & (f.col('Number') != 80)).show()"
   ]
  },
  {
   "cell_type": "code",
   "execution_count": null,
   "metadata": {},
   "outputs": [],
   "source": [
    "# df = df.withColumn('Number', df['Number'].cast(types.IntegerType()))"
   ]
  },
  {
   "cell_type": "code",
   "execution_count": null,
   "metadata": {},
   "outputs": [],
   "source": [
    "# df.show()"
   ]
  },
  {
   "cell_type": "code",
   "execution_count": null,
   "metadata": {},
   "outputs": [],
   "source": [
    "# df.groupby('Letter').mean('Number').show()\n",
    "# df.groupby('Letter').agg(f.mean('Number')).show()"
   ]
  },
  {
   "cell_type": "code",
   "execution_count": null,
   "metadata": {},
   "outputs": [],
   "source": [
    "# train_df.withColumn('month', f.date_format('mm',f.col('test_date'))).show()"
   ]
  },
  {
   "cell_type": "code",
   "execution_count": null,
   "metadata": {},
   "outputs": [],
   "source": [
    "# train_df.createOrReplaceTempView('train_df')"
   ]
  },
  {
   "cell_type": "code",
   "execution_count": null,
   "metadata": {},
   "outputs": [],
   "source": [
    "# def testfx(x):\n",
    "#     return x*x*x\n",
    "\n",
    "# spark.udf.register('testfx',testfx)\n",
    "\n",
    "# spark.sql('SELECT testfx(Pclass) from train_df').show()"
   ]
  },
  {
   "cell_type": "code",
   "execution_count": null,
   "metadata": {},
   "outputs": [],
   "source": [
    "### Reduce by is better than group by key because it pre-combines rows on the exectuor.\n",
    "### Groupby doesn't, it sends all data to one node THEN groups\n",
    "### https://databricks.gitbooks.io/databricks-spark-knowledge-base/content/best_practices/prefer_reducebykey_over_groupbykey.html"
   ]
  },
  {
   "cell_type": "code",
   "execution_count": null,
   "metadata": {},
   "outputs": [],
   "source": [
    "### Shuffles: https://stackoverflow.com/questions/26273664/what-are-the-spark-transformations-that-causes-a-shuffle"
   ]
  },
  {
   "cell_type": "code",
   "execution_count": null,
   "metadata": {},
   "outputs": [],
   "source": [
    "# test_df = train_df.select(f.split('test_date','-').alias('split_date'))\n",
    "# test_df.show()"
   ]
  },
  {
   "cell_type": "code",
   "execution_count": null,
   "metadata": {},
   "outputs": [],
   "source": [
    "# test_df.select(f.explode('split_date')).show()"
   ]
  },
  {
   "cell_type": "code",
   "execution_count": null,
   "metadata": {},
   "outputs": [],
   "source": [
    "# test_df.select(f.posexplode('split_date')).show()"
   ]
  },
  {
   "cell_type": "code",
   "execution_count": null,
   "metadata": {},
   "outputs": [],
   "source": [
    "# test_df.select(f.collect_list('split_date')).first()"
   ]
  },
  {
   "cell_type": "code",
   "execution_count": null,
   "metadata": {},
   "outputs": [],
   "source": [
    "data = [   (\"Ali\", 0, [100]),   (\"Barbara\", 1, [300, 250, 100]),   (\"Cesar\", 1, [350, 100]),   (\"Dongmei\", 1, [400, 100]),   (\"Eli\", 2, [250]),   (\"Florita\", 2, [500, 300, 100]),   (\"Gatimu\", 3, [300, 100]) ]\n",
    "data = [(\"Ali\", 0, [[100]]),   (\"Barbara\", 1, [[100,200,300],[300, 250, 100]]),   (\"Cesar\", 1, [[1,2,3],[350, 100]])]\n",
    "maxpeopleDF = spark.createDataFrame(data).toDF(\"name\", \"department\", \"score\")"
   ]
  },
  {
   "cell_type": "code",
   "execution_count": null,
   "metadata": {},
   "outputs": [],
   "source": [
    "# peopleDF.show()"
   ]
  },
  {
   "cell_type": "code",
   "execution_count": null,
   "metadata": {},
   "outputs": [],
   "source": [
    "# peopleDF.withColumn('score', f.explode(f.col('score'))).show()"
   ]
  },
  {
   "cell_type": "code",
   "execution_count": null,
   "metadata": {},
   "outputs": [],
   "source": [
    "# (peopleDF\n",
    "#  .withColumn('score', f.explode(f.col('score')))\n",
    "#  .groupby('department')\n",
    "#  .max('score').show()\n",
    "#  .withColumnRenamed('max(score)','highest')\n",
    "# )\n"
   ]
  },
  {
   "cell_type": "code",
   "execution_count": null,
   "metadata": {},
   "outputs": [],
   "source": [
    "# df.rdd.cogroup(df.rdd).collect()"
   ]
  },
  {
   "cell_type": "code",
   "execution_count": null,
   "metadata": {},
   "outputs": [],
   "source": [
    "df.sort('Letter').show()"
   ]
  },
  {
   "cell_type": "code",
   "execution_count": null,
   "metadata": {},
   "outputs": [],
   "source": [
    "df.join(df.sample(True,.25, 42), 'Letter', how='left').show()"
   ]
  },
  {
   "cell_type": "code",
   "execution_count": null,
   "metadata": {},
   "outputs": [],
   "source": [
    "# Declare the cubed function\n",
    "def cubed(a: pd.Series) -> pd.Series:\n",
    "    return a * a * a\n",
    "# Create the pandas UDF for the cubed function\n",
    "cubed_udf = f.pandas_udf(cubed, returnType=types.IntegerType())"
   ]
  },
  {
   "cell_type": "code",
   "execution_count": null,
   "metadata": {},
   "outputs": [],
   "source": [
    "maxpeopleDF.select('*').show(truncate=False)"
   ]
  },
  {
   "cell_type": "code",
   "execution_count": null,
   "metadata": {},
   "outputs": [],
   "source": [
    "maxpeopleDF.select(f.col('name'),f.flatten(f.col('score'))).show(truncate=False)"
   ]
  },
  {
   "cell_type": "code",
   "execution_count": null,
   "metadata": {},
   "outputs": [],
   "source": [
    "maxpeopleDF.show()"
   ]
  },
  {
   "cell_type": "code",
   "execution_count": null,
   "metadata": {},
   "outputs": [],
   "source": [
    "maxpeopleDF.select(f.col('name'),f.explode(f.col('score'))).show()"
   ]
  },
  {
   "cell_type": "code",
   "execution_count": null,
   "metadata": {},
   "outputs": [],
   "source": [
    "maxpeopleDF.select(f.collect_list(f.col('score'))).show(truncate=False)"
   ]
  },
  {
   "cell_type": "code",
   "execution_count": null,
   "metadata": {},
   "outputs": [],
   "source": [
    "df.groupby('Letter').pivot('Number').agg(f.sum('Number')).show()"
   ]
  },
  {
   "cell_type": "code",
   "execution_count": null,
   "metadata": {},
   "outputs": [],
   "source": [
    "# codes = spark.read.csv('airport-codes-na.txt', sep='\\t', header=True, inferSchema=True)"
   ]
  },
  {
   "cell_type": "code",
   "execution_count": null,
   "metadata": {},
   "outputs": [],
   "source": [
    "# codes.show()"
   ]
  },
  {
   "cell_type": "code",
   "execution_count": null,
   "metadata": {},
   "outputs": [],
   "source": [
    "air = spark.read.csv('departuredelays.csv', sep=',', header=True, inferSchema=True)"
   ]
  },
  {
   "cell_type": "code",
   "execution_count": null,
   "metadata": {},
   "outputs": [],
   "source": [
    "air.dtypes"
   ]
  },
  {
   "cell_type": "code",
   "execution_count": null,
   "metadata": {},
   "outputs": [],
   "source": [
    "gair = air.groupby('origin')"
   ]
  },
  {
   "cell_type": "code",
   "execution_count": null,
   "metadata": {},
   "outputs": [],
   "source": [
    "air.rollup('origin','destination').sum('delay', 'distance').sort('origin').show()"
   ]
  },
  {
   "cell_type": "code",
   "execution_count": null,
   "metadata": {},
   "outputs": [],
   "source": [
    "air.cube('origin','destination').sum('delay', 'distance').sort('origin').show()"
   ]
  },
  {
   "cell_type": "code",
   "execution_count": null,
   "metadata": {},
   "outputs": [],
   "source": [
    "w = Window.partitionBy(f.col('destination')).orderBy(f.col('delay'))"
   ]
  },
  {
   "cell_type": "code",
   "execution_count": null,
   "metadata": {},
   "outputs": [],
   "source": [
    "air.select('origin','destination','delay',f.dense_rank().over(w)).show()"
   ]
  },
  {
   "cell_type": "code",
   "execution_count": null,
   "metadata": {},
   "outputs": [],
   "source": [
    "w = Window.partitionBy('distance').orderBy('delay')"
   ]
  },
  {
   "cell_type": "code",
   "execution_count": null,
   "metadata": {},
   "outputs": [],
   "source": [
    "air.select('origin', 'distance', 'delay', f.dense_rank().over(w)).orderBy('distance', ascending=False).show()"
   ]
  },
  {
   "cell_type": "code",
   "execution_count": null,
   "metadata": {},
   "outputs": [],
   "source": [
    "air.dtypes"
   ]
  },
  {
   "cell_type": "code",
   "execution_count": null,
   "metadata": {},
   "outputs": [],
   "source": [
    "train_df = train_df.repartition(4)\n",
    "train_df.rdd.getNumPartitions()"
   ]
  },
  {
   "cell_type": "code",
   "execution_count": null,
   "metadata": {},
   "outputs": [],
   "source": [
    "train_df.summary().show()"
   ]
  },
  {
   "cell_type": "code",
   "execution_count": null,
   "metadata": {},
   "outputs": [],
   "source": [
    "train_df.describe().show()"
   ]
  },
  {
   "cell_type": "code",
   "execution_count": null,
   "metadata": {},
   "outputs": [],
   "source": [
    "train_df.head()"
   ]
  },
  {
   "cell_type": "code",
   "execution_count": null,
   "metadata": {},
   "outputs": [],
   "source": [
    "train_df.where((f.col('Pclass').contains('1'))).show()"
   ]
  },
  {
   "cell_type": "code",
   "execution_count": null,
   "metadata": {},
   "outputs": [],
   "source": [
    "train_df.agg(f.sum('Fare')).show()"
   ]
  },
  {
   "cell_type": "code",
   "execution_count": null,
   "metadata": {},
   "outputs": [],
   "source": [
    "train_df.select(f.sum('Fare')).show()"
   ]
  },
  {
   "cell_type": "code",
   "execution_count": null,
   "metadata": {},
   "outputs": [],
   "source": [
    "train_df.select(f.expr('SUM(Fare)')).show()"
   ]
  },
  {
   "cell_type": "code",
   "execution_count": null,
   "metadata": {},
   "outputs": [],
   "source": [
    "gb = train_df.groupby('Survived')"
   ]
  },
  {
   "cell_type": "code",
   "execution_count": null,
   "metadata": {},
   "outputs": [],
   "source": [
    "gb."
   ]
  },
  {
   "cell_type": "code",
   "execution_count": null,
   "metadata": {},
   "outputs": [],
   "source": [
    "train_df.select(f.explode(f.split('Name', ','))).show(truncate=False)"
   ]
  },
  {
   "cell_type": "code",
   "execution_count": null,
   "metadata": {},
   "outputs": [],
   "source": [
    "train_df.select(f.collect_list(f.split('Name', ','))).show(truncate=False)"
   ]
  },
  {
   "cell_type": "code",
   "execution_count": null,
   "metadata": {},
   "outputs": [],
   "source": [
    "w = Window.partitionBy('PClass').orderBy('Survived')"
   ]
  },
  {
   "cell_type": "code",
   "execution_count": 158,
   "metadata": {},
   "outputs": [
    {
     "name": "stdout",
     "output_type": "stream",
     "text": [
      "+---------------------------------------------------------------------------------------------+\n",
      "|DENSE_RANK() OVER (PARTITION BY PClass ORDER BY Survived ASC NULLS FIRST unspecifiedframe$())|\n",
      "+---------------------------------------------------------------------------------------------+\n",
      "|                                                                                            1|\n",
      "|                                                                                            1|\n",
      "|                                                                                            1|\n",
      "|                                                                                            1|\n",
      "|                                                                                            1|\n",
      "|                                                                                            1|\n",
      "|                                                                                            1|\n",
      "|                                                                                            1|\n",
      "|                                                                                            1|\n",
      "|                                                                                            1|\n",
      "|                                                                                            1|\n",
      "|                                                                                            1|\n",
      "|                                                                                            1|\n",
      "|                                                                                            1|\n",
      "|                                                                                            1|\n",
      "|                                                                                            1|\n",
      "|                                                                                            1|\n",
      "|                                                                                            1|\n",
      "|                                                                                            1|\n",
      "|                                                                                            1|\n",
      "+---------------------------------------------------------------------------------------------+\n",
      "only showing top 20 rows\n",
      "\n"
     ]
    }
   ],
   "source": [
    "train_df.select(f.dense_rank().over(w)).show()"
   ]
  },
  {
   "cell_type": "code",
   "execution_count": 163,
   "metadata": {},
   "outputs": [
    {
     "name": "stdout",
     "output_type": "stream",
     "text": [
      "+-------------------+\n",
      "|test_date          |\n",
      "+-------------------+\n",
      "|2021-01-14 00:00:00|\n",
      "|2021-01-14 00:00:00|\n",
      "|2021-01-14 00:00:00|\n",
      "|2021-01-14 00:00:00|\n",
      "|2021-01-14 00:00:00|\n",
      "|2021-01-14 00:00:00|\n",
      "|2021-01-14 00:00:00|\n",
      "|2021-01-14 00:00:00|\n",
      "|2021-01-14 00:00:00|\n",
      "|2021-01-14 00:00:00|\n",
      "|2021-01-14 00:00:00|\n",
      "|2021-01-14 00:00:00|\n",
      "|2021-01-14 00:00:00|\n",
      "|2021-01-14 00:00:00|\n",
      "|2021-01-14 00:00:00|\n",
      "|2021-01-14 00:00:00|\n",
      "|2021-01-14 00:00:00|\n",
      "|2021-01-14 00:00:00|\n",
      "|2021-01-14 00:00:00|\n",
      "|2021-01-14 00:00:00|\n",
      "+-------------------+\n",
      "only showing top 20 rows\n",
      "\n"
     ]
    }
   ],
   "source": [
    "train_df.select(f.col('test_date').cast(types.TimestampType())).show(truncate=False)"
   ]
  },
  {
   "cell_type": "code",
   "execution_count": null,
   "metadata": {},
   "outputs": [],
   "source": []
  }
 ],
 "metadata": {
  "kernelspec": {
   "display_name": "Python 3",
   "language": "python",
   "name": "python3"
  },
  "language_info": {
   "codemirror_mode": {
    "name": "ipython",
    "version": 3
   },
   "file_extension": ".py",
   "mimetype": "text/x-python",
   "name": "python",
   "nbconvert_exporter": "python",
   "pygments_lexer": "ipython3",
   "version": "3.7.7"
  }
 },
 "nbformat": 4,
 "nbformat_minor": 4
}

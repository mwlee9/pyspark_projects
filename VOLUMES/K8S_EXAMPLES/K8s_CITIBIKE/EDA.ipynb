{
 "cells": [
  {
   "cell_type": "code",
   "execution_count": 24,
   "metadata": {},
   "outputs": [],
   "source": [
    "from pyspark.sql import SparkSession\n",
    "import os"
   ]
  },
  {
   "cell_type": "code",
   "execution_count": 25,
   "metadata": {},
   "outputs": [],
   "source": [
    "spark = (SparkSession.builder.master(\"k8s://https://kubernetes.default.svc.cluster.local:443\")\n",
    "         .appName(\"spark\")\n",
    "         .config(\"spark.kubernetes.container.image\", \"docker.io/mwl/pyspark-executor:latest\")\n",
    "         .config(\"spark.driver.host\", \"sn-deployment.spark.svc.cluster.local\")\n",
    "         .config(\"spark.executor.instances\", \"6\")\n",
    "         .config(\"spark.executor.cores\", \"1\")\n",
    "         .config(\"spark.driver.memory\", \"1g\")\n",
    "         .config(\"spark.executor.memory\", \"1g\")\n",
    "         .config(\"spark.kubernetes.namespace\", \"spark\")\n",
    "         .config(\"spark.kubernetes.driver.volumes.persistentVolumeClaim.snpvc.mount.path\", \"/home/volumes\")\n",
    "         .config(\"spark.kubernetes.driver.volumes.persistentVolumeClaim.snpvc.options.claimName\", \"snpvc\")\n",
    "         .config(\"spark.kubernetes.executor.volumes.persistentVolumeClaim.snpvc.mount.path\", \"/home/volumes\")\n",
    "         .config(\"spark.kubernetes.executor.volumes.persistentVolumeClaim.snpvc.options.claimName\", \"snpvc\")\n",
    "         .config('spark.sql.adaptive.enabled','True')\n",
    "         .config('spark.kubernetes.driver.pod.name','sn-deployment-0')\n",
    "         .config('spark.kubernetes.node.selector.comptype','desktop')\n",
    "         .getOrCreate())"
   ]
  },
  {
   "cell_type": "code",
   "execution_count": 26,
   "metadata": {},
   "outputs": [],
   "source": [
    "schema = \"\"\"Trip_Duration INT,\n",
    "            Start_Time_Date DATE,\n",
    "            Stop_Time_Date DATE,\n",
    "            Start_Station_Name STRING,\n",
    "            End_Station_Name STRING,\n",
    "            Station_ID STRING,\n",
    "            Station_LatLong STRING,\n",
    "            Bike_ID STRING,\n",
    "            User_Type STRING,\n",
    "            Gender INT,\n",
    "            Year_of_Birth INT\"\"\""
   ]
  },
  {
   "cell_type": "code",
   "execution_count": 27,
   "metadata": {},
   "outputs": [],
   "source": [
    "df = spark.read.csv('*.csv', header=True, schema=schema)"
   ]
  },
  {
   "cell_type": "code",
   "execution_count": null,
   "metadata": {},
   "outputs": [],
   "source": [
    "df.write.parquet('trip_data.parquet')"
   ]
  }
 ],
 "metadata": {
  "kernelspec": {
   "display_name": "Python 3",
   "language": "python",
   "name": "python3"
  },
  "language_info": {
   "codemirror_mode": {
    "name": "ipython",
    "version": 3
   },
   "file_extension": ".py",
   "mimetype": "text/x-python",
   "name": "python",
   "nbconvert_exporter": "python",
   "pygments_lexer": "ipython3",
   "version": "3.7.7"
  }
 },
 "nbformat": 4,
 "nbformat_minor": 4
}

{
 "cells": [
  {
   "cell_type": "code",
   "execution_count": 4,
   "metadata": {},
   "outputs": [
    {
     "name": "stdout",
     "output_type": "stream",
     "text": [
      "Collecting plotly\n",
      "\u001b[?25l  Downloading https://files.pythonhosted.org/packages/c9/09/315462259ab7b60a3d4b7159233ed700733c87d889755bdc00a9fb46d692/plotly-4.14.1-py2.py3-none-any.whl (13.2MB)\n",
      "\u001b[K     |████████████████████████████████| 13.2MB 240kB/s eta 0:00:01     |██████████████████████████▋     | 11.0MB 1.4MB/s eta 0:00:02\n",
      "\u001b[?25hCollecting retrying>=1.3.3 (from plotly)\n",
      "  Downloading https://files.pythonhosted.org/packages/44/ef/beae4b4ef80902f22e3af073397f079c96969c69b2c7d52a57ea9ae61c9d/retrying-1.3.3.tar.gz\n",
      "Requirement already satisfied: six in /opt/venv/lib/python3.7/site-packages (from plotly) (1.15.0)\n",
      "Installing collected packages: retrying, plotly\n",
      "  Running setup.py install for retrying ... \u001b[?25ldone\n",
      "\u001b[?25hSuccessfully installed plotly-4.14.1 retrying-1.3.3\n",
      "\u001b[33mWARNING: You are using pip version 19.2.3, however version 20.3.3 is available.\n",
      "You should consider upgrading via the 'pip install --upgrade pip' command.\u001b[0m\n",
      "Note: you may need to restart the kernel to use updated packages.\n"
     ]
    }
   ],
   "source": [
    "pip install plotly"
   ]
  },
  {
   "cell_type": "code",
   "execution_count": 5,
   "metadata": {},
   "outputs": [
    {
     "name": "stdout",
     "output_type": "stream",
     "text": [
      "Collecting missingno\n",
      "  Downloading https://files.pythonhosted.org/packages/2b/de/6e4dd6d720c49939544352155dc06a08c9f7e4271aa631a559dfbeaaf9d4/missingno-0.4.2-py3-none-any.whl\n",
      "Requirement already satisfied: seaborn in /opt/venv/lib/python3.7/site-packages (from missingno) (0.11.1)\n",
      "Requirement already satisfied: matplotlib in /opt/venv/lib/python3.7/site-packages (from missingno) (3.3.3)\n",
      "Requirement already satisfied: scipy in /opt/venv/lib/python3.7/site-packages (from missingno) (1.5.4)\n",
      "Requirement already satisfied: numpy in /opt/venv/lib/python3.7/site-packages (from missingno) (1.19.4)\n",
      "Requirement already satisfied: pandas>=0.23 in /opt/venv/lib/python3.7/site-packages (from seaborn->missingno) (1.1.5)\n",
      "Requirement already satisfied: python-dateutil>=2.1 in /opt/venv/lib/python3.7/site-packages (from matplotlib->missingno) (2.8.1)\n",
      "Requirement already satisfied: cycler>=0.10 in /opt/venv/lib/python3.7/site-packages (from matplotlib->missingno) (0.10.0)\n",
      "Requirement already satisfied: pyparsing!=2.0.4,!=2.1.2,!=2.1.6,>=2.0.3 in /opt/venv/lib/python3.7/site-packages (from matplotlib->missingno) (2.4.7)\n",
      "Requirement already satisfied: pillow>=6.2.0 in /opt/venv/lib/python3.7/site-packages (from matplotlib->missingno) (8.0.1)\n",
      "Requirement already satisfied: kiwisolver>=1.0.1 in /opt/venv/lib/python3.7/site-packages (from matplotlib->missingno) (1.3.1)\n",
      "Requirement already satisfied: pytz>=2017.2 in /opt/venv/lib/python3.7/site-packages (from pandas>=0.23->seaborn->missingno) (2020.5)\n",
      "Requirement already satisfied: six>=1.5 in /opt/venv/lib/python3.7/site-packages (from python-dateutil>=2.1->matplotlib->missingno) (1.15.0)\n",
      "Installing collected packages: missingno\n",
      "Successfully installed missingno-0.4.2\n",
      "\u001b[33mWARNING: You are using pip version 19.2.3, however version 20.3.3 is available.\n",
      "You should consider upgrading via the 'pip install --upgrade pip' command.\u001b[0m\n",
      "Note: you may need to restart the kernel to use updated packages.\n"
     ]
    }
   ],
   "source": [
    "pip install missingno"
   ]
  },
  {
   "cell_type": "code",
   "execution_count": 6,
   "metadata": {},
   "outputs": [],
   "source": [
    "import os\n",
    "import pandas as pd\n",
    "import matplotlib.pyplot as plt\n",
    "import seaborn as sns\n",
    "import missingno as msno\n",
    "import plotly.graph_objects as go\n",
    "import plotly.express as px\n",
    "import numpy as np"
   ]
  },
  {
   "cell_type": "code",
   "execution_count": 7,
   "metadata": {},
   "outputs": [],
   "source": [
    "from pyspark import SparkConf\n",
    "from pyspark.sql import SparkSession\n",
    "from pyspark.sql import functions as f\n",
    "from pyspark.sql import types"
   ]
  },
  {
   "cell_type": "code",
   "execution_count": 8,
   "metadata": {},
   "outputs": [],
   "source": [
    "sparkConf = SparkConf()\n",
    "\n",
    "sparkConf.setAppName(\"spark\")\n",
    "\n",
    "DRIVER_MEM = \"6g\"\n",
    "# sparkConf.set(\"spark.driver.memory\", DRIVER_MEM)\n",
    "\n",
    "spark = SparkSession.builder.config(conf=sparkConf).getOrCreate()\n",
    "sc = spark.sparkContext"
   ]
  },
  {
   "cell_type": "markdown",
   "metadata": {},
   "source": [
    "age\n",
    "sex: sex (1 = male; 0 = female)\n",
    "cp: chest pain type\n",
    "        -- Value 1: typical angina\n",
    "        -- Value 2: atypical angina\n",
    "        -- Value 3: non-anginal pain\n",
    "        -- Value 4: asymptomatic\n",
    "trestbps: resting blood pressure (in mm Hg on admission to the \n",
    "        hospital)\n",
    "12 chol: serum cholestoral in mg/dl\n",
    "16 fbs: (fasting blood sugar > 120 mg/dl)  (1 = true; 0 = false)\n",
    "19 restecg: resting electrocardiographic results\n",
    "        -- Value 0: normal\n",
    "        -- Value 1: having ST-T wave abnormality (T wave inversions and/or ST \n",
    "                    elevation or depression of > 0.05 mV)\n",
    "        -- Value 2: showing probable or definite left ventricular hypertrophy\n",
    "                    by Estes' criteria\n",
    "32 thalach: maximum heart rate achieved\n",
    "38 exang: exercise induced angina (1 = yes; 0 = no)\n",
    "     40 oldpeak = ST depression induced by exercise relative to rest\n",
    "41 slope: the slope of the peak exercise ST segment\n",
    "        -- Value 1: upsloping\n",
    "        -- Value 2: flat\n",
    "        -- Value 3: downsloping\n",
    "\n",
    " 44 ca: number of major vessels (0-3) colored by flourosopy\n",
    "\n",
    " 51 thal: 3 = normal; 6 = fixed defect; 7 = reversable defect\n",
    " 58 num: diagnosis of heart disease (angiographic disease status)\n",
    "    -- Value 0: < 50% diameter narrowing\n",
    "    -- Value 1: > 50% diameter narrowing\n",
    "    (in any major vessel: attributes 59 through 68 are vessels)\n"
   ]
  },
  {
   "cell_type": "code",
   "execution_count": 9,
   "metadata": {},
   "outputs": [],
   "source": [
    "df = spark.read.csv('processed.cleveland.data', inferSchema=True, header=True)"
   ]
  },
  {
   "cell_type": "code",
   "execution_count": 10,
   "metadata": {},
   "outputs": [
    {
     "name": "stdout",
     "output_type": "stream",
     "text": [
      "+----+---+---+--------+-----+---+-------+-------+-----+-------+-----+---+----+---+\n",
      "| age|sex| cp|trestbps| chol|fbs|restecg|thalach|exang|oldpeak|slope| ca|thal|num|\n",
      "+----+---+---+--------+-----+---+-------+-------+-----+-------+-----+---+----+---+\n",
      "|63.0|1.0|1.0|   145.0|233.0|1.0|    2.0|  150.0|  0.0|    2.3|  3.0|0.0| 6.0|  0|\n",
      "|67.0|1.0|4.0|   160.0|286.0|0.0|    2.0|  108.0|  1.0|    1.5|  2.0|3.0| 3.0|  2|\n",
      "|67.0|1.0|4.0|   120.0|229.0|0.0|    2.0|  129.0|  1.0|    2.6|  2.0|2.0| 7.0|  1|\n",
      "|37.0|1.0|3.0|   130.0|250.0|0.0|    0.0|  187.0|  0.0|    3.5|  3.0|0.0| 3.0|  0|\n",
      "|41.0|0.0|2.0|   130.0|204.0|0.0|    2.0|  172.0|  0.0|    1.4|  1.0|0.0| 3.0|  0|\n",
      "+----+---+---+--------+-----+---+-------+-------+-----+-------+-----+---+----+---+\n",
      "only showing top 5 rows\n",
      "\n"
     ]
    }
   ],
   "source": [
    "df.show(5)"
   ]
  },
  {
   "cell_type": "code",
   "execution_count": 11,
   "metadata": {},
   "outputs": [
    {
     "data": {
      "text/plain": [
       "[Row(age=63.0, sex=1.0, cp=1.0, trestbps=145.0, chol=233.0, fbs=1.0, restecg=2.0, thalach=150.0, exang=0.0, oldpeak=2.3, slope=3.0, ca='0.0', thal='6.0', num=0),\n",
       " Row(age=67.0, sex=1.0, cp=4.0, trestbps=160.0, chol=286.0, fbs=0.0, restecg=2.0, thalach=108.0, exang=1.0, oldpeak=1.5, slope=2.0, ca='3.0', thal='3.0', num=2)]"
      ]
     },
     "execution_count": 11,
     "metadata": {},
     "output_type": "execute_result"
    }
   ],
   "source": [
    "df.head(2)"
   ]
  },
  {
   "cell_type": "code",
   "execution_count": 12,
   "metadata": {},
   "outputs": [
    {
     "name": "stdout",
     "output_type": "stream",
     "text": [
      "root\n",
      " |-- age: double (nullable = true)\n",
      " |-- sex: double (nullable = true)\n",
      " |-- cp: double (nullable = true)\n",
      " |-- trestbps: double (nullable = true)\n",
      " |-- chol: double (nullable = true)\n",
      " |-- fbs: double (nullable = true)\n",
      " |-- restecg: double (nullable = true)\n",
      " |-- thalach: double (nullable = true)\n",
      " |-- exang: double (nullable = true)\n",
      " |-- oldpeak: double (nullable = true)\n",
      " |-- slope: double (nullable = true)\n",
      " |-- ca: string (nullable = true)\n",
      " |-- thal: string (nullable = true)\n",
      " |-- num: integer (nullable = true)\n",
      "\n"
     ]
    }
   ],
   "source": [
    "df.printSchema()"
   ]
  },
  {
   "cell_type": "code",
   "execution_count": 13,
   "metadata": {},
   "outputs": [
    {
     "data": {
      "text/plain": [
       "(313, 14)"
      ]
     },
     "execution_count": 13,
     "metadata": {},
     "output_type": "execute_result"
    }
   ],
   "source": [
    "df.count(),len(df.columns)"
   ]
  },
  {
   "cell_type": "code",
   "execution_count": 14,
   "metadata": {},
   "outputs": [
    {
     "name": "stdout",
     "output_type": "stream",
     "text": [
      "+-------+-----------------+------------------+------------------+------------------+-----------------+-------------------+------------------+------------------+-------------------+------------------+------------------+------------------+------------------+------------------+\n",
      "|summary|              age|               sex|                cp|          trestbps|             chol|                fbs|           restecg|           thalach|              exang|           oldpeak|             slope|                ca|              thal|               num|\n",
      "+-------+-----------------+------------------+------------------+------------------+-----------------+-------------------+------------------+------------------+-------------------+------------------+------------------+------------------+------------------+------------------+\n",
      "|  count|              313|               313|               313|               313|              313|                313|               313|               313|                313|               313|               313|               313|               313|               313|\n",
      "|   mean|57.44408945686901|0.6805111821086262|3.1565495207667733|131.75718849840257|245.0255591054313| 0.1501597444089457|0.9712460063897763|149.42492012779553| 0.3258785942492013|1.0287539936102235|1.6038338658146964|0.6742671009771987| 4.739549839228296|0.9456869009584664|\n",
      "| stddev|54.20666979154325|0.4670252224111126|0.9629832677581379|17.500874183832327|52.23381222455547|0.35779995490953836|0.9947638781445791|23.120537381118048|0.46945270708321746|1.1586093759683447|0.6120462719252815|0.9348494515436011|1.9393244059569543|1.2248451986390552|\n",
      "|    min|             29.0|               0.0|               1.0|              94.0|            126.0|                0.0|               0.0|              71.0|                0.0|               0.0|               1.0|               0.0|               3.0|                 0|\n",
      "|    25%|             48.0|               0.0|               3.0|             120.0|            209.0|                0.0|               0.0|             133.0|                0.0|               0.0|               1.0|               0.0|               3.0|                 0|\n",
      "|    50%|             56.0|               1.0|               3.0|             130.0|            240.0|                0.0|               0.0|             152.0|                0.0|               0.8|               2.0|               0.0|               3.0|                 0|\n",
      "|    75%|             61.0|               1.0|               4.0|             140.0|            274.0|                0.0|               2.0|             166.0|                1.0|               1.6|               2.0|               1.0|               7.0|                 2|\n",
      "|    max|           1000.0|               1.0|               4.0|             200.0|            564.0|                1.0|               2.0|             202.0|                1.0|               6.2|               3.0|                 ?|                 ?|                 4|\n",
      "+-------+-----------------+------------------+------------------+------------------+-----------------+-------------------+------------------+------------------+-------------------+------------------+------------------+------------------+------------------+------------------+\n",
      "\n"
     ]
    }
   ],
   "source": [
    "df.summary().show()"
   ]
  },
  {
   "cell_type": "markdown",
   "metadata": {},
   "source": [
    "### Remove Duplicate Rows"
   ]
  },
  {
   "cell_type": "code",
   "execution_count": 15,
   "metadata": {},
   "outputs": [],
   "source": [
    "df_d = df.distinct()"
   ]
  },
  {
   "cell_type": "markdown",
   "metadata": {},
   "source": [
    "### Get Summary of data"
   ]
  },
  {
   "cell_type": "code",
   "execution_count": 16,
   "metadata": {},
   "outputs": [
    {
     "name": "stdout",
     "output_type": "stream",
     "text": [
      "+-------+-----------------+------------------+------------------+------------------+------------------+-------------------+------------------+------------------+------------------+------------------+------------------+------------------+------------------+------------------+\n",
      "|summary|              age|               sex|                cp|          trestbps|              chol|                fbs|           restecg|           thalach|             exang|           oldpeak|             slope|                ca|              thal|               num|\n",
      "+-------+-----------------+------------------+------------------+------------------+------------------+-------------------+------------------+------------------+------------------+------------------+------------------+------------------+------------------+------------------+\n",
      "|  count|              304|               304|               304|               304|               304|                304|               304|               304|               304|               304|               304|               304|               304|               304|\n",
      "|   mean|57.54934210526316| 0.680921052631579|3.1578947368421053|131.71052631578948|246.45723684210526|0.14802631578947367|0.9868421052631579|149.68421052631578|0.3256578947368421|1.0361842105263164|1.5986842105263157|0.6722408026755853| 4.728476821192053|0.9342105263157895|\n",
      "| stddev|54.97726082196653|0.4668882386718575|0.9585829968345948|17.574408178496014| 51.85469174882987|0.35571160394311174|0.9949499024173559|22.876601403703212|0.4693927979308466|1.1606899815546023|0.6161722405146899| 0.937438317724216|1.9390506113939718|1.2276842491448698|\n",
      "|    min|             29.0|               0.0|               1.0|              94.0|             126.0|                0.0|               0.0|              71.0|               0.0|               0.0|               1.0|               0.0|               3.0|                 0|\n",
      "|    25%|             48.0|               0.0|               3.0|             120.0|             211.0|                0.0|               0.0|             133.0|               0.0|               0.0|               1.0|               0.0|               3.0|                 0|\n",
      "|    50%|             56.0|               1.0|               3.0|             130.0|             240.0|                0.0|               0.0|             153.0|               0.0|               0.8|               2.0|               0.0|               3.0|                 0|\n",
      "|    75%|             61.0|               1.0|               4.0|             140.0|             275.0|                0.0|               2.0|             166.0|               1.0|               1.6|               2.0|               1.0|               7.0|                 2|\n",
      "|    max|           1000.0|               1.0|               4.0|             200.0|             564.0|                1.0|               2.0|             202.0|               1.0|               6.2|               3.0|                 ?|                 ?|                 4|\n",
      "+-------+-----------------+------------------+------------------+------------------+------------------+-------------------+------------------+------------------+------------------+------------------+------------------+------------------+------------------+------------------+\n",
      "\n"
     ]
    }
   ],
   "source": [
    "df_d.summary().show()"
   ]
  },
  {
   "cell_type": "code",
   "execution_count": 17,
   "metadata": {},
   "outputs": [
    {
     "data": {
      "text/plain": [
       "[('age', 'double'),\n",
       " ('sex', 'double'),\n",
       " ('cp', 'double'),\n",
       " ('trestbps', 'double'),\n",
       " ('chol', 'double'),\n",
       " ('fbs', 'double'),\n",
       " ('restecg', 'double'),\n",
       " ('thalach', 'double'),\n",
       " ('exang', 'double'),\n",
       " ('oldpeak', 'double'),\n",
       " ('slope', 'double'),\n",
       " ('ca', 'string'),\n",
       " ('thal', 'string'),\n",
       " ('num', 'int')]"
      ]
     },
     "execution_count": 17,
     "metadata": {},
     "output_type": "execute_result"
    }
   ],
   "source": [
    "df_d.dtypes"
   ]
  },
  {
   "cell_type": "markdown",
   "metadata": {},
   "source": [
    "### Check how many unique values per column"
   ]
  },
  {
   "cell_type": "code",
   "execution_count": 18,
   "metadata": {},
   "outputs": [],
   "source": [
    "pd_df = df.toPandas()"
   ]
  },
  {
   "cell_type": "code",
   "execution_count": 19,
   "metadata": {},
   "outputs": [
    {
     "data": {
      "text/plain": [
       "age          42\n",
       "sex           2\n",
       "cp            4\n",
       "trestbps     50\n",
       "chol        152\n",
       "fbs           2\n",
       "restecg       3\n",
       "thalach      91\n",
       "exang         2\n",
       "oldpeak      40\n",
       "slope         3\n",
       "ca            5\n",
       "thal          4\n",
       "num           5\n",
       "dtype: int64"
      ]
     },
     "execution_count": 19,
     "metadata": {},
     "output_type": "execute_result"
    }
   ],
   "source": [
    "pd_df.nunique()"
   ]
  },
  {
   "cell_type": "code",
   "execution_count": 20,
   "metadata": {},
   "outputs": [
    {
     "name": "stdout",
     "output_type": "stream",
     "text": [
      "+-------------------+-------------------+------------------+------------------------+--------------------+-------------------+-----------------------+-----------------------+---------------------+-----------------------+---------------------+------------------+--------------------+-------------------+\n",
      "|count(DISTINCT age)|count(DISTINCT sex)|count(DISTINCT cp)|count(DISTINCT trestbps)|count(DISTINCT chol)|count(DISTINCT fbs)|count(DISTINCT restecg)|count(DISTINCT thalach)|count(DISTINCT exang)|count(DISTINCT oldpeak)|count(DISTINCT slope)|count(DISTINCT ca)|count(DISTINCT thal)|count(DISTINCT num)|\n",
      "+-------------------+-------------------+------------------+------------------------+--------------------+-------------------+-----------------------+-----------------------+---------------------+-----------------------+---------------------+------------------+--------------------+-------------------+\n",
      "|                 42|                  2|                 4|                      50|                 152|                  2|                      3|                     91|                    2|                     40|                    3|                 5|                   4|                  5|\n",
      "+-------------------+-------------------+------------------+------------------------+--------------------+-------------------+-----------------------+-----------------------+---------------------+-----------------------+---------------------+------------------+--------------------+-------------------+\n",
      "\n"
     ]
    }
   ],
   "source": [
    "list_of_nunique = [f.countDistinct(c) for c in df_d.columns]\n",
    "df_d.select(list_of_nunique).show()"
   ]
  },
  {
   "cell_type": "markdown",
   "metadata": {},
   "source": [
    "### Validate columns that have bad data"
   ]
  },
  {
   "cell_type": "code",
   "execution_count": 21,
   "metadata": {},
   "outputs": [
    {
     "name": "stdout",
     "output_type": "stream",
     "text": [
      "+---+\n",
      "| ca|\n",
      "+---+\n",
      "|1.0|\n",
      "|0.0|\n",
      "|2.0|\n",
      "|  ?|\n",
      "|3.0|\n",
      "+---+\n",
      "\n"
     ]
    }
   ],
   "source": [
    "df_d.select('ca').distinct().show()"
   ]
  },
  {
   "cell_type": "code",
   "execution_count": 22,
   "metadata": {},
   "outputs": [
    {
     "name": "stdout",
     "output_type": "stream",
     "text": [
      "+---+-----+\n",
      "| ca|count|\n",
      "+---+-----+\n",
      "|1.0|   65|\n",
      "|0.0|  176|\n",
      "|2.0|   38|\n",
      "|  ?|    5|\n",
      "|3.0|   20|\n",
      "+---+-----+\n",
      "\n"
     ]
    }
   ],
   "source": [
    "df_d.groupBy('ca').count().show()"
   ]
  },
  {
   "cell_type": "code",
   "execution_count": 23,
   "metadata": {},
   "outputs": [
    {
     "name": "stdout",
     "output_type": "stream",
     "text": [
      "+------+---+---+--------+-----+---+-------+-------+-----+-------+-----+---+----+---+\n",
      "|   age|sex| cp|trestbps| chol|fbs|restecg|thalach|exang|oldpeak|slope| ca|thal|num|\n",
      "+------+---+---+--------+-----+---+-------+-------+-----+-------+-----+---+----+---+\n",
      "|  38.0|1.0|3.0|   138.0|175.0|0.0|    0.0|  173.0|  0.0|    0.0|  1.0|  ?| 3.0|  0|\n",
      "|  58.0|1.0|2.0|   125.0|220.0|0.0|    0.0|  144.0|  0.0|    0.4|  2.0|  ?| 7.0|  0|\n",
      "|  43.0|1.0|4.0|   132.0|247.0|1.0|    2.0|  143.0|  1.0|    0.1|  2.0|  ?| 7.0|  1|\n",
      "|1000.0|1.0|3.0|   138.0|175.0|0.0|    0.0|  173.0|  0.0|    0.0|  1.0|  ?| 3.0|  0|\n",
      "|  52.0|1.0|3.0|   138.0|223.0|0.0|    0.0|  169.0|  0.0|    0.0|  1.0|  ?| 3.0|  0|\n",
      "+------+---+---+--------+-----+---+-------+-------+-----+-------+-----+---+----+---+\n",
      "\n"
     ]
    }
   ],
   "source": [
    "df_d.where(f.col('ca') == '?').show()"
   ]
  },
  {
   "cell_type": "code",
   "execution_count": 24,
   "metadata": {},
   "outputs": [
    {
     "name": "stdout",
     "output_type": "stream",
     "text": [
      "+----+-----+\n",
      "|  ca|count|\n",
      "+----+-----+\n",
      "| 1.0|   65|\n",
      "|null|    5|\n",
      "| 0.0|  176|\n",
      "| 2.0|   38|\n",
      "| 3.0|   20|\n",
      "+----+-----+\n",
      "\n"
     ]
    }
   ],
   "source": [
    "df_d = df_d.replace(\"?\", None, subset = \"ca\")\n",
    "df_d.groupby('ca').count().show()"
   ]
  },
  {
   "cell_type": "code",
   "execution_count": 25,
   "metadata": {},
   "outputs": [
    {
     "name": "stdout",
     "output_type": "stream",
     "text": [
      "+----+-----+\n",
      "|thal|count|\n",
      "+----+-----+\n",
      "|null|    2|\n",
      "| 6.0|   18|\n",
      "| 7.0|  117|\n",
      "| 3.0|  167|\n",
      "+----+-----+\n",
      "\n"
     ]
    }
   ],
   "source": [
    "df_d = df_d.replace(\"?\",None,subset=\"thal\")\n",
    "df_d.groupby(\"thal\").count().show()"
   ]
  },
  {
   "cell_type": "markdown",
   "metadata": {},
   "source": [
    "### Find Null counts"
   ]
  },
  {
   "cell_type": "markdown",
   "metadata": {},
   "source": [
    "#### List Comprehension"
   ]
  },
  {
   "cell_type": "code",
   "execution_count": 26,
   "metadata": {},
   "outputs": [
    {
     "name": "stdout",
     "output_type": "stream",
     "text": [
      "+---+---+---+--------+----+---+-------+-------+-----+-------+-----+---+----+---+\n",
      "|age|sex| cp|trestbps|chol|fbs|restecg|thalach|exang|oldpeak|slope| ca|thal|num|\n",
      "+---+---+---+--------+----+---+-------+-------+-----+-------+-----+---+----+---+\n",
      "|  0|  0|  0|       0|   0|  0|      0|      0|    0|      0|    0|  5|   2|  0|\n",
      "+---+---+---+--------+----+---+-------+-------+-----+-------+-----+---+----+---+\n",
      "\n"
     ]
    }
   ],
   "source": [
    "list_col = [f.count(f.when(f.col(c).isNull(),c)).alias(c) for c in df_d.columns]\n",
    "\n",
    "df_d.select(list_col).show()"
   ]
  },
  {
   "cell_type": "markdown",
   "metadata": {},
   "source": [
    "#### Map"
   ]
  },
  {
   "cell_type": "code",
   "execution_count": 27,
   "metadata": {},
   "outputs": [
    {
     "name": "stdout",
     "output_type": "stream",
     "text": [
      "+---+---+---+--------+----+---+-------+-------+-----+-------+-----+---+----+---+\n",
      "|age|sex| cp|trestbps|chol|fbs|restecg|thalach|exang|oldpeak|slope| ca|thal|num|\n",
      "+---+---+---+--------+----+---+-------+-------+-----+-------+-----+---+----+---+\n",
      "|  0|  0|  0|       0|   0|  0|      0|      0|    0|      0|    0|  5|   2|  0|\n",
      "+---+---+---+--------+----+---+-------+-------+-----+-------+-----+---+----+---+\n",
      "\n"
     ]
    }
   ],
   "source": [
    "def get_null_cnt(c):\n",
    "    return f.count(f.when(f.col(c).isNull(),c)).alias(c)\n",
    "\n",
    "map_of_nulls = map(get_null_cnt, df_d.columns )\n",
    "list_null_cnt = list(map_of_nulls)\n",
    "\n",
    "df_d.select(list_null_cnt).show()"
   ]
  },
  {
   "cell_type": "markdown",
   "metadata": {},
   "source": [
    "### Get condition counts for all columns: check 0 values"
   ]
  },
  {
   "cell_type": "code",
   "execution_count": 28,
   "metadata": {},
   "outputs": [
    {
     "name": "stdout",
     "output_type": "stream",
     "text": [
      "+---+---+---+--------+----+---+-------+-------+-----+-------+-----+---+----+---+\n",
      "|age|sex| cp|trestbps|chol|fbs|restecg|thalach|exang|oldpeak|slope| ca|thal|num|\n",
      "+---+---+---+--------+----+---+-------+-------+-----+-------+-----+---+----+---+\n",
      "|  0| 97|  0|       0|   0|259|    152|      0|  205|    100|    0|  0|   0|165|\n",
      "+---+---+---+--------+----+---+-------+-------+-----+-------+-----+---+----+---+\n",
      "\n"
     ]
    }
   ],
   "source": [
    "def get_null_cnt(c):\n",
    "    return f.count(f.when(f.col(c) == '0',c)).alias(c)\n",
    "\n",
    "map_of_nulls = map(get_null_cnt, df_d.columns )\n",
    "list_null_cnt = list(map_of_nulls)\n",
    "\n",
    "df_d.select(list_null_cnt).show()"
   ]
  },
  {
   "cell_type": "markdown",
   "metadata": {},
   "source": [
    "### Fill nulls with Median"
   ]
  },
  {
   "cell_type": "code",
   "execution_count": 29,
   "metadata": {},
   "outputs": [
    {
     "name": "stdout",
     "output_type": "stream",
     "text": [
      "+---+---+---+--------+----+---+-------+-------+-----+-------+-----+---+----+---+\n",
      "|age|sex| cp|trestbps|chol|fbs|restecg|thalach|exang|oldpeak|slope| ca|thal|num|\n",
      "+---+---+---+--------+----+---+-------+-------+-----+-------+-----+---+----+---+\n",
      "|  0|  0|  0|       0|   0|  0|      0|      0|    0|      0|    0|  0|   0|  0|\n",
      "+---+---+---+--------+----+---+-------+-------+-----+-------+-----+---+----+---+\n",
      "\n"
     ]
    }
   ],
   "source": [
    "df_d = df_d.withColumn('ca', f.col('ca').cast(types.IntegerType()))\n",
    "\n",
    "ca_median = df_d.approxQuantile(\"ca\", [0.5], 0.25)\n",
    "\n",
    "df_d = df_d.na.fill(ca_median[0])\n",
    "\n",
    "########################################\n",
    "\n",
    "df_d = df_d.withColumn('thal', f.col('thal').cast(types.IntegerType()))\n",
    "\n",
    "thal_median = df_d.approxQuantile(\"thal\", [0.5], 0.25)\n",
    "\n",
    "df_d = df_d.na.fill(thal_median[0])\n",
    "\n",
    "########################################\n",
    "\n",
    "list_col = [f.count(f.when(f.col(c).isNull(),c)).alias(c) for c in df_d.columns]\n",
    "\n",
    "df_d.select(list_col).show()\n"
   ]
  },
  {
   "cell_type": "markdown",
   "metadata": {},
   "source": [
    "### Get Mean for filling"
   ]
  },
  {
   "cell_type": "code",
   "execution_count": 33,
   "metadata": {},
   "outputs": [
    {
     "data": {
      "text/plain": [
       "0.6611842105263158"
      ]
     },
     "execution_count": 33,
     "metadata": {},
     "output_type": "execute_result"
    }
   ],
   "source": [
    "df_d.select('ca').agg(f.avg(\"ca\")).collect()[0][0]\n",
    "\n",
    "# df_d = df_d.replace(None,f.mean())"
   ]
  },
  {
   "cell_type": "markdown",
   "metadata": {},
   "source": [
    "### Get summary again"
   ]
  },
  {
   "cell_type": "code",
   "execution_count": 34,
   "metadata": {},
   "outputs": [
    {
     "name": "stdout",
     "output_type": "stream",
     "text": [
      "+-------+-----------------+------------------+------------------+------------------+------------------+-------------------+------------------+------------------+------------------+------------------+------------------+------------------+-----------------+------------------+\n",
      "|summary|              age|               sex|                cp|          trestbps|              chol|                fbs|           restecg|           thalach|             exang|           oldpeak|             slope|                ca|             thal|               num|\n",
      "+-------+-----------------+------------------+------------------+------------------+------------------+-------------------+------------------+------------------+------------------+------------------+------------------+------------------+-----------------+------------------+\n",
      "|  count|              304|               304|               304|               304|               304|                304|               304|               304|               304|               304|               304|               304|              304|               304|\n",
      "|   mean|57.54934210526316| 0.680921052631579|3.1578947368421053|131.71052631578948|246.45723684210526|0.14802631578947367|0.9868421052631579|149.68421052631578|0.3256578947368421|1.0361842105263164|1.5986842105263157|0.6611842105263158|4.717105263157895|0.9342105263157895|\n",
      "| stddev|54.97726082196653|0.4668882386718575|0.9585829968345948|17.574408178496014| 51.85469174882987|0.35571160394311174|0.9949499024173559|22.876601403703212|0.4693927979308466|1.1606899815546023|0.6161722405146899|0.9336078810322066|1.937702232717524|1.2276842491448698|\n",
      "|    min|             29.0|               0.0|               1.0|              94.0|             126.0|                0.0|               0.0|              71.0|               0.0|               0.0|               1.0|                 0|                3|                 0|\n",
      "|    max|           1000.0|               1.0|               4.0|             200.0|             564.0|                1.0|               2.0|             202.0|               1.0|               6.2|               3.0|                 3|                7|                 4|\n",
      "+-------+-----------------+------------------+------------------+------------------+------------------+-------------------+------------------+------------------+------------------+------------------+------------------+------------------+-----------------+------------------+\n",
      "\n"
     ]
    }
   ],
   "source": [
    "df_d.describe().show()"
   ]
  },
  {
   "cell_type": "markdown",
   "metadata": {},
   "source": [
    "### Replace features with names for easier to understand plots"
   ]
  },
  {
   "cell_type": "code",
   "execution_count": 35,
   "metadata": {},
   "outputs": [
    {
     "name": "stdout",
     "output_type": "stream",
     "text": [
      "+----+------+----------------+--------+-----+-----+-------+-------+-----+-------+-----------+---+-----------------+---+----------+\n",
      "| age|   sex|              cp|trestbps| chol|  fbs|restecg|thalach|exang|oldpeak|      slope| ca|             thal|num|    target|\n",
      "+----+------+----------------+--------+-----+-----+-------+-------+-----+-------+-----------+---+-----------------+---+----------+\n",
      "|71.0|Female|non-anginal pain|   110.0|265.0|False|    2.0|  130.0| True|    0.0|  upsloping|  1|     fixed_defect|  0|No_Disease|\n",
      "|42.0|  Male|non-anginal pain|   120.0|240.0|False|    0.0|  194.0| True|    0.8|downsloping|  0|reversable_defect|  0|No_Disease|\n",
      "|34.0|Female| atypical_angina|   118.0|210.0| True|    0.0|  192.0| True|    0.7|  upsloping|  0|     fixed_defect|  0|No_Disease|\n",
      "|64.0|  Male|    asymptomatic|   120.0|246.0| True|    2.0|   96.0|False|    2.2|downsloping|  1|     fixed_defect|  3|   Disease|\n",
      "|70.0|  Male|    asymptomatic|   145.0|174.0| True|    0.0|  125.0|False|    2.6|downsloping|  0|reversable_defect|  4|   Disease|\n",
      "|52.0|  Male| atypical_angina|   134.0|201.0| True|    0.0|  158.0| True|    0.8|  upsloping|  1|     fixed_defect|  0|No_Disease|\n",
      "|48.0|Female|non-anginal pain|   130.0|275.0| True|    0.0|  139.0| True|    0.2|  upsloping|  0|     fixed_defect|  0|No_Disease|\n",
      "|41.0|  Male| atypical_angina|   110.0|235.0| True|    0.0|  153.0| True|    0.0|  upsloping|  0|     fixed_defect|  0|No_Disease|\n",
      "|59.0|  Male| atypical_angina|   140.0|221.0| True|    0.0|  164.0|False|    0.0|  upsloping|  0|     fixed_defect|  0|No_Disease|\n",
      "|52.0|Female|non-anginal pain|   136.0|196.0| True|    2.0|  169.0| True|    0.1|       flat|  0|     fixed_defect|  0|No_Disease|\n",
      "|77.0|  Male|    asymptomatic|   125.0|304.0| True|    2.0|  162.0|False|    0.0|  upsloping|  3|     fixed_defect|  4|   Disease|\n",
      "|70.0|  Male| atypical_angina|   156.0|245.0| True|    2.0|  143.0| True|    0.0|  upsloping|  0|     fixed_defect|  0|No_Disease|\n",
      "|60.0|Female|  typical_angina|   150.0|240.0| True|    0.0|  171.0| True|    0.9|  upsloping|  0|     fixed_defect|  0|No_Disease|\n",
      "|60.0|  Male|    asymptomatic|   140.0|293.0| True|    2.0|  170.0| True|    1.2|       flat|  2|reversable_defect|  2|   Disease|\n",
      "|37.0|Female|non-anginal pain|   120.0|215.0| True|    0.0|  170.0| True|    0.0|  upsloping|  0|     fixed_defect|  0|No_Disease|\n",
      "|37.0|  Male|non-anginal pain|   130.0|250.0| True|    0.0|  187.0| True|    3.5|downsloping|  0|     fixed_defect|  0|No_Disease|\n",
      "|56.0|  Male| atypical_angina|   120.0|236.0| True|    0.0|  178.0| True|    0.8|  upsloping|  0|     fixed_defect|  0|No_Disease|\n",
      "|51.0|Female|    asymptomatic|   130.0|305.0| True|    0.0|  142.0|False|    1.2|       flat|  0|reversable_defect|  2|   Disease|\n",
      "|54.0|  Male|non-anginal pain|   150.0|232.0| True|    2.0|  165.0| True|    1.6|  upsloping|  0|reversable_defect|  0|No_Disease|\n",
      "|67.0|  Male|    asymptomatic|   160.0|286.0| True|    2.0|  108.0|False|    1.5|       flat|  3|     fixed_defect|  2|   Disease|\n",
      "+----+------+----------------+--------+-----+-----+-------+-------+-----+-------+-----------+---+-----------------+---+----------+\n",
      "only showing top 20 rows\n",
      "\n"
     ]
    },
    {
     "data": {
      "text/plain": [
       "[('age', 'double'),\n",
       " ('sex', 'string'),\n",
       " ('cp', 'string'),\n",
       " ('trestbps', 'double'),\n",
       " ('chol', 'double'),\n",
       " ('fbs', 'string'),\n",
       " ('restecg', 'double'),\n",
       " ('thalach', 'double'),\n",
       " ('exang', 'string'),\n",
       " ('oldpeak', 'double'),\n",
       " ('slope', 'string'),\n",
       " ('ca', 'int'),\n",
       " ('thal', 'string'),\n",
       " ('num', 'int'),\n",
       " ('target', 'string')]"
      ]
     },
     "execution_count": 35,
     "metadata": {},
     "output_type": "execute_result"
    }
   ],
   "source": [
    "df_p = df_d\n",
    "\n",
    "df_p = df_p.withColumn('target',f.col('num').cast(\"string\"))\n",
    "df_p = df_p.replace(['1','2','3','4'],\"Disease\", subset='target')\n",
    "df_p = df_p.replace('0',\"No_Disease\", subset='target')\n",
    "\n",
    "df_p = df_p.withColumn('sex',f.col('sex').cast('string'))\n",
    "df_p = df_p.replace({'1.0': \"Male\", '0.0': \"Female\"}, subset='sex')\n",
    "\n",
    "df_p = df_p.withColumn('cp', f.col('cp').cast('string'))\n",
    "df_p = df_p.replace({'2.0': \"atypical_angina\", '1.0': 'typical_angina', '3.0': 'non-anginal pain', '4.0': 'asymptomatic'},\n",
    "            subset='cp')\n",
    "\n",
    "df_p = df_p.withColumn('exang', f.col('exang').cast('string'))\n",
    "df_p = df_p.replace({'0.0': 'True', '1.0': 'False'}, subset = 'exang')\n",
    "\n",
    "df_p = df_p.withColumn('fbs', f.col('fbs').cast('string'))\n",
    "df_p = df_p.replace({'0.0': 'True', '1.0': 'False'}, subset = 'fbs')\n",
    "\n",
    "df_p = df_p.withColumn('slope', f.col('slope').cast('string'))\n",
    "df_p = df_p.replace({'1.0': 'upsloping', '2.0': 'flat', '3.0': 'downsloping'}, subset = 'slope')\n",
    "\n",
    "df_p = df_p.withColumn('thal', f.col('thal').cast('string'))\n",
    "df_p = df_p.replace({'3': 'fixed_defect', '6': 'fixed_defect', '7': \"reversable_defect\"}, subset = 'thal')\n",
    "\n",
    "df_p.show()\n",
    "\n",
    "df_p.dtypes\n"
   ]
  },
  {
   "cell_type": "markdown",
   "metadata": {},
   "source": [
    "### Find Outliers"
   ]
  },
  {
   "cell_type": "code",
   "execution_count": 36,
   "metadata": {},
   "outputs": [],
   "source": [
    "pd_df = df_d.toPandas()"
   ]
  },
  {
   "cell_type": "code",
   "execution_count": 37,
   "metadata": {},
   "outputs": [
    {
     "data": {
      "text/plain": [
       "age            AxesSubplot(0.125,0.536818;0.0945122x0.343182)\n",
       "sex         AxesSubplot(0.238415,0.536818;0.0945122x0.343182)\n",
       "cp          AxesSubplot(0.351829,0.536818;0.0945122x0.343182)\n",
       "trestbps    AxesSubplot(0.465244,0.536818;0.0945122x0.343182)\n",
       "chol        AxesSubplot(0.578659,0.536818;0.0945122x0.343182)\n",
       "fbs         AxesSubplot(0.692073,0.536818;0.0945122x0.343182)\n",
       "restecg     AxesSubplot(0.805488,0.536818;0.0945122x0.343182)\n",
       "thalach           AxesSubplot(0.125,0.125;0.0945122x0.343182)\n",
       "exang          AxesSubplot(0.238415,0.125;0.0945122x0.343182)\n",
       "oldpeak        AxesSubplot(0.351829,0.125;0.0945122x0.343182)\n",
       "slope          AxesSubplot(0.465244,0.125;0.0945122x0.343182)\n",
       "ca             AxesSubplot(0.578659,0.125;0.0945122x0.343182)\n",
       "thal           AxesSubplot(0.692073,0.125;0.0945122x0.343182)\n",
       "num            AxesSubplot(0.805488,0.125;0.0945122x0.343182)\n",
       "dtype: object"
      ]
     },
     "execution_count": 37,
     "metadata": {},
     "output_type": "execute_result"
    },
    {
     "data": {
      "image/png": "[encoded data removed]",
      "text/plain": [
       "<Figure size 1440x720 with 14 Axes>"
      ]
     },
     "metadata": {
      "needs_background": "light"
     },
     "output_type": "display_data"
    }
   ],
   "source": [
    "pd_df.plot(kind='box', subplots='True',layout=(2,7),sharex=False,sharey=False, figsize=(20, 10))"
   ]
  },
  {
   "cell_type": "code",
   "execution_count": 39,
   "metadata": {},
   "outputs": [],
   "source": [
    "# fig = px.box(pd_df, x='target', y='chol')\n",
    "# fig.show()"
   ]
  },
  {
   "cell_type": "code",
   "execution_count": 40,
   "metadata": {},
   "outputs": [
    {
     "data": {
      "text/plain": [
       "<AxesSubplot:xlabel='target', ylabel='chol'>"
      ]
     },
     "execution_count": 40,
     "metadata": {},
     "output_type": "execute_result"
    },
    {
     "data": {
      "image/png": "[encoded data removed]",
      "text/plain": [
       "<Figure size 432x288 with 1 Axes>"
      ]
     },
     "metadata": {
      "needs_background": "light"
     },
     "output_type": "display_data"
    }
   ],
   "source": [
    "pd_df = df_p.toPandas()\n",
    "sns.boxplot(x='target',y='chol',data=pd_df,width=1)"
   ]
  },
  {
   "cell_type": "markdown",
   "metadata": {},
   "source": [
    "#### Create the IQR bounds\n",
    "https://blog.zhaytam.com/2019/07/15/outliers-detection-in-pyspark-2-interquartile-range/"
   ]
  },
  {
   "cell_type": "code",
   "execution_count": 41,
   "metadata": {},
   "outputs": [
    {
     "data": {
      "text/plain": [
       "{'age': ('age', 'double'),\n",
       " 'trestbps': ('trestbps', 'double'),\n",
       " 'chol': ('chol', 'double'),\n",
       " 'restecg': ('restecg', 'double'),\n",
       " 'thalach': ('thalach', 'double'),\n",
       " 'oldpeak': ('oldpeak', 'double'),\n",
       " 'ca': ('ca', 'int'),\n",
       " 'num': ('num', 'int')}"
      ]
     },
     "execution_count": 41,
     "metadata": {},
     "output_type": "execute_result"
    }
   ],
   "source": [
    "## demonstrate Zip an list comprehensions. Curly's used for dictionary, c is first element : second element\n",
    "## in this case the second element is going to be a list of the bounds calculated by approxQuantile.\n",
    "## Use if statements to get only the numerical datatypes\n",
    "{c: d for c,d in zip(df_p.columns,df_p.dtypes) if (d[1] == 'double' or d[1] == 'int') }"
   ]
  },
  {
   "cell_type": "code",
   "execution_count": 42,
   "metadata": {},
   "outputs": [
    {
     "data": {
      "text/plain": [
       "{'age': {'q1': 48.0, 'q3': 61.0},\n",
       " 'trestbps': {'q1': 120.0, 'q3': 140.0},\n",
       " 'chol': {'q1': 211.0, 'q3': 275.0},\n",
       " 'restecg': {'q1': 0.0, 'q3': 2.0},\n",
       " 'thalach': {'q1': 133.0, 'q3': 166.0},\n",
       " 'oldpeak': {'q1': 0.0, 'q3': 1.6},\n",
       " 'ca': {'q1': 0.0, 'q3': 1.0},\n",
       " 'num': {'q1': 0.0, 'q3': 2.0}}"
      ]
     },
     "execution_count": 42,
     "metadata": {},
     "output_type": "execute_result"
    }
   ],
   "source": [
    "### Dictionary Method: create a dictionary of dictionaries for nested addressing later. More complex but better\n",
    "### Var naming\n",
    "dict_bounds = {c: dict(zip(['q1','q3'],df_p.approxQuantile(c,[0.25,.75],0)))\n",
    "          for c,d in zip(df_p.columns,df_p.dtypes) if (d[1] == 'double' or d[1] == 'int') }\n",
    "dict_bounds"
   ]
  },
  {
   "cell_type": "code",
   "execution_count": 43,
   "metadata": {
    "scrolled": true
   },
   "outputs": [
    {
     "data": {
      "text/plain": [
       "{'age': {'q1': 48.0, 'q3': 61.0, 'min': 28.5, 'max': 80.5},\n",
       " 'trestbps': {'q1': 120.0, 'q3': 140.0, 'min': 90.0, 'max': 170.0},\n",
       " 'chol': {'q1': 211.0, 'q3': 275.0, 'min': 115.0, 'max': 371.0},\n",
       " 'restecg': {'q1': 0.0, 'q3': 2.0, 'min': -3.0, 'max': 5.0},\n",
       " 'thalach': {'q1': 133.0, 'q3': 166.0, 'min': 83.5, 'max': 215.5},\n",
       " 'oldpeak': {'q1': 0.0, 'q3': 1.6, 'min': -2.4000000000000004, 'max': 4.0},\n",
       " 'ca': {'q1': 0.0, 'q3': 1.0, 'min': -1.5, 'max': 2.5},\n",
       " 'num': {'q1': 0.0, 'q3': 2.0, 'min': -3.0, 'max': 5.0}}"
      ]
     },
     "execution_count": 43,
     "metadata": {},
     "output_type": "execute_result"
    }
   ],
   "source": [
    "for c in dict_bounds:\n",
    "    iqr = dict_bounds[c]['q3'] - dict_bounds[c]['q1']\n",
    "    dict_bounds[c]['min'] = dict_bounds[c]['q1'] - iqr*1.5\n",
    "    dict_bounds[c]['max'] = dict_bounds[c]['q3'] + iqr*1.5\n",
    "    \n",
    "dict_bounds"
   ]
  },
  {
   "cell_type": "markdown",
   "metadata": {},
   "source": [
    "#### Apply bounds and create new column with outliers flagged"
   ]
  },
  {
   "cell_type": "code",
   "execution_count": 44,
   "metadata": {},
   "outputs": [
    {
     "name": "stdout",
     "output_type": "stream",
     "text": [
      "+----+------+----------------+--------+-----+-----+-------+-------+-----+-------+-----------+---+-----------------+---+----------+-----------+----------------+------------+---------------+---------------+---------------+----------+-----------+\n",
      "| age|   sex|              cp|trestbps| chol|  fbs|restecg|thalach|exang|oldpeak|      slope| ca|             thal|num|    target|age_outlier|trestbps_outlier|chol_outlier|restecg_outlier|thalach_outlier|oldpeak_outlier|ca_outlier|num_outlier|\n",
      "+----+------+----------------+--------+-----+-----+-------+-------+-----+-------+-----------+---+-----------------+---+----------+-----------+----------------+------------+---------------+---------------+---------------+----------+-----------+\n",
      "|71.0|Female|non-anginal pain|   110.0|265.0|False|    2.0|  130.0| True|    0.0|  upsloping|  1|     fixed_defect|  0|No_Disease|      False|           False|       False|          False|          False|          False|     False|      False|\n",
      "|42.0|  Male|non-anginal pain|   120.0|240.0|False|    0.0|  194.0| True|    0.8|downsloping|  0|reversable_defect|  0|No_Disease|      False|           False|       False|          False|          False|          False|     False|      False|\n",
      "|34.0|Female| atypical_angina|   118.0|210.0| True|    0.0|  192.0| True|    0.7|  upsloping|  0|     fixed_defect|  0|No_Disease|      False|           False|       False|          False|          False|          False|     False|      False|\n",
      "|64.0|  Male|    asymptomatic|   120.0|246.0| True|    2.0|   96.0|False|    2.2|downsloping|  1|     fixed_defect|  3|   Disease|      False|           False|       False|          False|          False|          False|     False|      False|\n",
      "|70.0|  Male|    asymptomatic|   145.0|174.0| True|    0.0|  125.0|False|    2.6|downsloping|  0|reversable_defect|  4|   Disease|      False|           False|       False|          False|          False|          False|     False|      False|\n",
      "|52.0|  Male| atypical_angina|   134.0|201.0| True|    0.0|  158.0| True|    0.8|  upsloping|  1|     fixed_defect|  0|No_Disease|      False|           False|       False|          False|          False|          False|     False|      False|\n",
      "|48.0|Female|non-anginal pain|   130.0|275.0| True|    0.0|  139.0| True|    0.2|  upsloping|  0|     fixed_defect|  0|No_Disease|      False|           False|       False|          False|          False|          False|     False|      False|\n",
      "|41.0|  Male| atypical_angina|   110.0|235.0| True|    0.0|  153.0| True|    0.0|  upsloping|  0|     fixed_defect|  0|No_Disease|      False|           False|       False|          False|          False|          False|     False|      False|\n",
      "|59.0|  Male| atypical_angina|   140.0|221.0| True|    0.0|  164.0|False|    0.0|  upsloping|  0|     fixed_defect|  0|No_Disease|      False|           False|       False|          False|          False|          False|     False|      False|\n",
      "|52.0|Female|non-anginal pain|   136.0|196.0| True|    2.0|  169.0| True|    0.1|       flat|  0|     fixed_defect|  0|No_Disease|      False|           False|       False|          False|          False|          False|     False|      False|\n",
      "|77.0|  Male|    asymptomatic|   125.0|304.0| True|    2.0|  162.0|False|    0.0|  upsloping|  3|     fixed_defect|  4|   Disease|      False|           False|       False|          False|          False|          False|      True|      False|\n",
      "|70.0|  Male| atypical_angina|   156.0|245.0| True|    2.0|  143.0| True|    0.0|  upsloping|  0|     fixed_defect|  0|No_Disease|      False|           False|       False|          False|          False|          False|     False|      False|\n",
      "|60.0|Female|  typical_angina|   150.0|240.0| True|    0.0|  171.0| True|    0.9|  upsloping|  0|     fixed_defect|  0|No_Disease|      False|           False|       False|          False|          False|          False|     False|      False|\n",
      "|60.0|  Male|    asymptomatic|   140.0|293.0| True|    2.0|  170.0| True|    1.2|       flat|  2|reversable_defect|  2|   Disease|      False|           False|       False|          False|          False|          False|     False|      False|\n",
      "|37.0|Female|non-anginal pain|   120.0|215.0| True|    0.0|  170.0| True|    0.0|  upsloping|  0|     fixed_defect|  0|No_Disease|      False|           False|       False|          False|          False|          False|     False|      False|\n",
      "|37.0|  Male|non-anginal pain|   130.0|250.0| True|    0.0|  187.0| True|    3.5|downsloping|  0|     fixed_defect|  0|No_Disease|      False|           False|       False|          False|          False|          False|     False|      False|\n",
      "|56.0|  Male| atypical_angina|   120.0|236.0| True|    0.0|  178.0| True|    0.8|  upsloping|  0|     fixed_defect|  0|No_Disease|      False|           False|       False|          False|          False|          False|     False|      False|\n",
      "|51.0|Female|    asymptomatic|   130.0|305.0| True|    0.0|  142.0|False|    1.2|       flat|  0|reversable_defect|  2|   Disease|      False|           False|       False|          False|          False|          False|     False|      False|\n",
      "|54.0|  Male|non-anginal pain|   150.0|232.0| True|    2.0|  165.0| True|    1.6|  upsloping|  0|reversable_defect|  0|No_Disease|      False|           False|       False|          False|          False|          False|     False|      False|\n",
      "|67.0|  Male|    asymptomatic|   160.0|286.0| True|    2.0|  108.0|False|    1.5|       flat|  3|     fixed_defect|  2|   Disease|      False|           False|       False|          False|          False|          False|      True|      False|\n",
      "+----+------+----------------+--------+-----+-----+-------+-------+-----+-------+-----------+---+-----------------+---+----------+-----------+----------------+------------+---------------+---------------+---------------+----------+-----------+\n",
      "only showing top 20 rows\n",
      "\n"
     ]
    }
   ],
   "source": [
    "for c in dict_bounds:\n",
    "    df_p = df_p.withColumn(c+'_outlier', f.when(\n",
    "        ~f.col(c).between(dict_bounds[c]['min'], dict_bounds[c]['max']), 'True')\n",
    "                .otherwise('False'))\n",
    "\n",
    "df_p.show()\n"
   ]
  },
  {
   "cell_type": "markdown",
   "metadata": {},
   "source": [
    "#### Verify Outliers"
   ]
  },
  {
   "cell_type": "code",
   "execution_count": 45,
   "metadata": {},
   "outputs": [
    {
     "name": "stdout",
     "output_type": "stream",
     "text": [
      "+----+------+----------------+--------+-----+-----+-------+-------+-----+-------+---------+---+-----------------+---+----------+-----------+----------------+------------+---------------+---------------+---------------+----------+-----------+\n",
      "| age|   sex|              cp|trestbps| chol|  fbs|restecg|thalach|exang|oldpeak|    slope| ca|             thal|num|    target|age_outlier|trestbps_outlier|chol_outlier|restecg_outlier|thalach_outlier|oldpeak_outlier|ca_outlier|num_outlier|\n",
      "+----+------+----------------+--------+-----+-----+-------+-------+-----+-------+---------+---+-----------------+---+----------+-----------+----------------+------------+---------------+---------------+---------------+----------+-----------+\n",
      "|65.0|Female|non-anginal pain|   140.0|417.0|False|    2.0|  157.0| True|    0.8|upsloping|  1|     fixed_defect|  0|No_Disease|      False|           False|        True|          False|          False|          False|     False|      False|\n",
      "|67.0|Female|non-anginal pain|   115.0|564.0| True|    2.0|  160.0| True|    1.6|     flat|  0|reversable_defect|  0|No_Disease|      False|           False|        True|          False|          False|          False|     False|      False|\n",
      "|63.0|Female|    asymptomatic|   150.0|407.0| True|    2.0|  154.0| True|    4.0|     flat|  3|reversable_defect|  4|   Disease|      False|           False|        True|          False|          False|          False|      True|      False|\n",
      "|62.0|Female|    asymptomatic|   140.0|394.0| True|    2.0|  157.0| True|    1.2|     flat|  0|     fixed_defect|  0|No_Disease|      False|           False|        True|          False|          False|          False|     False|      False|\n",
      "|56.0|Female|    asymptomatic|   134.0|409.0| True|    2.0|  150.0|False|    1.9|     flat|  2|reversable_defect|  2|   Disease|      False|           False|        True|          False|          False|          False|     False|      False|\n",
      "+----+------+----------------+--------+-----+-----+-------+-------+-----+-------+---------+---+-----------------+---+----------+-----------+----------------+------------+---------------+---------------+---------------+----------+-----------+\n",
      "\n"
     ]
    }
   ],
   "source": [
    "df_p.select('*').where(f.col('chol_outlier') == True).show()"
   ]
  },
  {
   "cell_type": "markdown",
   "metadata": {},
   "source": [
    "#### Count and Remove Outliers"
   ]
  },
  {
   "cell_type": "code",
   "execution_count": 46,
   "metadata": {},
   "outputs": [
    {
     "data": {
      "text/plain": [
       "{'age_outlier': 1,\n",
       " 'trestbps_outlier': 9,\n",
       " 'chol_outlier': 5,\n",
       " 'restecg_outlier': 0,\n",
       " 'thalach_outlier': 1,\n",
       " 'oldpeak_outlier': 5,\n",
       " 'ca_outlier': 20,\n",
       " 'num_outlier': 0}"
      ]
     },
     "execution_count": 46,
     "metadata": {},
     "output_type": "execute_result"
    }
   ],
   "source": [
    "{c: df_p.where(f.col(c) == True).count() for c in df_p.columns if c[-7:] == 'outlier'}"
   ]
  },
  {
   "cell_type": "code",
   "execution_count": 47,
   "metadata": {},
   "outputs": [
    {
     "name": "stdout",
     "output_type": "stream",
     "text": [
      "+----+------+----------------+--------+-----+-----+-------+-------+-----+-------+-----------+---+-----------------+---+----------+-----------+----------------+------------+---------------+---------------+---------------+----------+-----------+\n",
      "| age|   sex|              cp|trestbps| chol|  fbs|restecg|thalach|exang|oldpeak|      slope| ca|             thal|num|    target|age_outlier|trestbps_outlier|chol_outlier|restecg_outlier|thalach_outlier|oldpeak_outlier|ca_outlier|num_outlier|\n",
      "+----+------+----------------+--------+-----+-----+-------+-------+-----+-------+-----------+---+-----------------+---+----------+-----------+----------------+------------+---------------+---------------+---------------+----------+-----------+\n",
      "|71.0|Female|non-anginal pain|   110.0|265.0|False|    2.0|  130.0| True|    0.0|  upsloping|  1|     fixed_defect|  0|No_Disease|      False|           False|       False|          False|          False|          False|     False|      False|\n",
      "|42.0|  Male|non-anginal pain|   120.0|240.0|False|    0.0|  194.0| True|    0.8|downsloping|  0|reversable_defect|  0|No_Disease|      False|           False|       False|          False|          False|          False|     False|      False|\n",
      "|34.0|Female| atypical_angina|   118.0|210.0| True|    0.0|  192.0| True|    0.7|  upsloping|  0|     fixed_defect|  0|No_Disease|      False|           False|       False|          False|          False|          False|     False|      False|\n",
      "|64.0|  Male|    asymptomatic|   120.0|246.0| True|    2.0|   96.0|False|    2.2|downsloping|  1|     fixed_defect|  3|   Disease|      False|           False|       False|          False|          False|          False|     False|      False|\n",
      "|70.0|  Male|    asymptomatic|   145.0|174.0| True|    0.0|  125.0|False|    2.6|downsloping|  0|reversable_defect|  4|   Disease|      False|           False|       False|          False|          False|          False|     False|      False|\n",
      "|52.0|  Male| atypical_angina|   134.0|201.0| True|    0.0|  158.0| True|    0.8|  upsloping|  1|     fixed_defect|  0|No_Disease|      False|           False|       False|          False|          False|          False|     False|      False|\n",
      "|48.0|Female|non-anginal pain|   130.0|275.0| True|    0.0|  139.0| True|    0.2|  upsloping|  0|     fixed_defect|  0|No_Disease|      False|           False|       False|          False|          False|          False|     False|      False|\n",
      "|41.0|  Male| atypical_angina|   110.0|235.0| True|    0.0|  153.0| True|    0.0|  upsloping|  0|     fixed_defect|  0|No_Disease|      False|           False|       False|          False|          False|          False|     False|      False|\n",
      "|59.0|  Male| atypical_angina|   140.0|221.0| True|    0.0|  164.0|False|    0.0|  upsloping|  0|     fixed_defect|  0|No_Disease|      False|           False|       False|          False|          False|          False|     False|      False|\n",
      "|52.0|Female|non-anginal pain|   136.0|196.0| True|    2.0|  169.0| True|    0.1|       flat|  0|     fixed_defect|  0|No_Disease|      False|           False|       False|          False|          False|          False|     False|      False|\n",
      "|70.0|  Male| atypical_angina|   156.0|245.0| True|    2.0|  143.0| True|    0.0|  upsloping|  0|     fixed_defect|  0|No_Disease|      False|           False|       False|          False|          False|          False|     False|      False|\n",
      "|60.0|Female|  typical_angina|   150.0|240.0| True|    0.0|  171.0| True|    0.9|  upsloping|  0|     fixed_defect|  0|No_Disease|      False|           False|       False|          False|          False|          False|     False|      False|\n",
      "|60.0|  Male|    asymptomatic|   140.0|293.0| True|    2.0|  170.0| True|    1.2|       flat|  2|reversable_defect|  2|   Disease|      False|           False|       False|          False|          False|          False|     False|      False|\n",
      "|37.0|Female|non-anginal pain|   120.0|215.0| True|    0.0|  170.0| True|    0.0|  upsloping|  0|     fixed_defect|  0|No_Disease|      False|           False|       False|          False|          False|          False|     False|      False|\n",
      "|37.0|  Male|non-anginal pain|   130.0|250.0| True|    0.0|  187.0| True|    3.5|downsloping|  0|     fixed_defect|  0|No_Disease|      False|           False|       False|          False|          False|          False|     False|      False|\n",
      "|56.0|  Male| atypical_angina|   120.0|236.0| True|    0.0|  178.0| True|    0.8|  upsloping|  0|     fixed_defect|  0|No_Disease|      False|           False|       False|          False|          False|          False|     False|      False|\n",
      "|51.0|Female|    asymptomatic|   130.0|305.0| True|    0.0|  142.0|False|    1.2|       flat|  0|reversable_defect|  2|   Disease|      False|           False|       False|          False|          False|          False|     False|      False|\n",
      "|54.0|  Male|non-anginal pain|   150.0|232.0| True|    2.0|  165.0| True|    1.6|  upsloping|  0|reversable_defect|  0|No_Disease|      False|           False|       False|          False|          False|          False|     False|      False|\n",
      "|50.0|  Male|    asymptomatic|   144.0|200.0| True|    2.0|  126.0|False|    0.9|       flat|  0|reversable_defect|  3|   Disease|      False|           False|       False|          False|          False|          False|     False|      False|\n",
      "|74.0|Female| atypical_angina|   120.0|269.0| True|    2.0|  121.0|False|    0.2|  upsloping|  1|     fixed_defect|  0|No_Disease|      False|           False|       False|          False|          False|          False|     False|      False|\n",
      "+----+------+----------------+--------+-----+-----+-------+-------+-----+-------+-----------+---+-----------------+---+----------+-----------+----------------+------------+---------------+---------------+---------------+----------+-----------+\n",
      "only showing top 20 rows\n",
      "\n"
     ]
    }
   ],
   "source": [
    "df_nout = df_p.select('*').where(\n",
    "    (f.col('age_outlier') == False)\n",
    "    & (f.col(\"trestbps_outlier\") == False)\n",
    "    & (f.col(\"chol_outlier\") == False)\n",
    "    & (f.col(\"restecg_outlier\") == False)\n",
    "    & (f.col(\"thalach_outlier\") == False)\n",
    "    & (f.col(\"oldpeak_outlier\") == False)\n",
    "    & (f.col(\"ca_outlier\") == False)\n",
    "    & (f.col(\"num_outlier\") == False)\n",
    "    )\n",
    "df_nout.show()"
   ]
  },
  {
   "cell_type": "code",
   "execution_count": null,
   "metadata": {},
   "outputs": [],
   "source": []
  },
  {
   "cell_type": "code",
   "execution_count": null,
   "metadata": {},
   "outputs": [],
   "source": []
  }
 ],
 "metadata": {
  "kernelspec": {
   "display_name": "Python 3",
   "language": "python",
   "name": "python3"
  },
  "language_info": {
   "codemirror_mode": {
    "name": "ipython",
    "version": 3
   },
   "file_extension": ".py",
   "mimetype": "text/x-python",
   "name": "python",
   "nbconvert_exporter": "python",
   "pygments_lexer": "ipython3",
   "version": "3.7.7"
  }
 },
 "nbformat": 4,
 "nbformat_minor": 4
}

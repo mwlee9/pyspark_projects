{
 "cells": [
  {
   "cell_type": "code",
   "execution_count": 1,
   "metadata": {},
   "outputs": [],
   "source": [
    "from pyspark.sql import SparkSession"
   ]
  },
  {
   "cell_type": "code",
   "execution_count": 2,
   "metadata": {},
   "outputs": [],
   "source": [
    "from pyspark.sql import functions as f\n",
    "from pyspark.sql.types import LongType"
   ]
  },
  {
   "cell_type": "code",
   "execution_count": 3,
   "metadata": {},
   "outputs": [],
   "source": [
    "spark = SparkSession.builder.config('spark.sql.adaptive.enabled','True').getOrCreate()"
   ]
  },
  {
   "cell_type": "code",
   "execution_count": 4,
   "metadata": {},
   "outputs": [],
   "source": [
    "codes_df = spark.read.csv('airport-codes-na.txt', inferSchema=True, header=True, sep='\\t')"
   ]
  },
  {
   "cell_type": "code",
   "execution_count": 5,
   "metadata": {},
   "outputs": [],
   "source": [
    "dd_df = spark.read.csv('departuredelays.csv', inferSchema=True, header=True)"
   ]
  },
  {
   "cell_type": "code",
   "execution_count": 6,
   "metadata": {},
   "outputs": [
    {
     "data": {
      "text/plain": [
       "[('date', 'int'),\n",
       " ('delay', 'int'),\n",
       " ('distance', 'int'),\n",
       " ('origin', 'string'),\n",
       " ('destination', 'string')]"
      ]
     },
     "execution_count": 6,
     "metadata": {},
     "output_type": "execute_result"
    }
   ],
   "source": [
    "dd_df.dtypes"
   ]
  },
  {
   "cell_type": "code",
   "execution_count": 7,
   "metadata": {},
   "outputs": [],
   "source": [
    "dd_df = dd_df.withColumn('delay', f.col('delay').cast('int'))\n",
    "dd_df = dd_df.withColumn('distance', f.col('distance').cast('int'))"
   ]
  },
  {
   "cell_type": "code",
   "execution_count": 8,
   "metadata": {},
   "outputs": [],
   "source": [
    "# dd_df.withColumn('delay',f.expr('CAST(delay AS int) as delay')).show()"
   ]
  },
  {
   "cell_type": "code",
   "execution_count": 9,
   "metadata": {},
   "outputs": [
    {
     "name": "stdout",
     "output_type": "stream",
     "text": [
      "+-------+-----+--------+------+-----------+\n",
      "|   date|delay|distance|origin|destination|\n",
      "+-------+-----+--------+------+-----------+\n",
      "|1010710|   31|     590|   SEA|        SFO|\n",
      "|1010955|  104|     590|   SEA|        SFO|\n",
      "|1010730|    5|     590|   SEA|        SFO|\n",
      "+-------+-----+--------+------+-----------+\n",
      "\n"
     ]
    }
   ],
   "source": [
    "sdd_df = dd_df.filter(f.expr(\"\"\"origin=='SEA' AND destination=='SFO' AND delay > 0 and date like '1010%' \"\"\"))\n",
    "sdd_df.show()\n",
    "# sdd_df = dd_df.where((f.col('origin') == 'SEA') & (f.col('destination')=='SFO') & f.col('date').like('1010%'))\n",
    "# sdd_df.show()"
   ]
  },
  {
   "cell_type": "code",
   "execution_count": 10,
   "metadata": {},
   "outputs": [],
   "source": [
    "sdd2_df= sdd_df.union(sdd_df)"
   ]
  },
  {
   "cell_type": "code",
   "execution_count": 11,
   "metadata": {},
   "outputs": [
    {
     "name": "stdout",
     "output_type": "stream",
     "text": [
      "+-------+-----+--------+------+-----------+\n",
      "|   date|delay|distance|origin|destination|\n",
      "+-------+-----+--------+------+-----------+\n",
      "|1010710|   31|     590|   SEA|        SFO|\n",
      "|1010955|  104|     590|   SEA|        SFO|\n",
      "|1010730|    5|     590|   SEA|        SFO|\n",
      "|1010710|   31|     590|   SEA|        SFO|\n",
      "|1010955|  104|     590|   SEA|        SFO|\n",
      "|1010730|    5|     590|   SEA|        SFO|\n",
      "+-------+-----+--------+------+-----------+\n",
      "\n"
     ]
    }
   ],
   "source": [
    "sdd2_df.show()"
   ]
  },
  {
   "cell_type": "code",
   "execution_count": 12,
   "metadata": {},
   "outputs": [],
   "source": [
    "sdd_extra = sdd_df.withColumn('sdd_x2',sdd_df['delay']*2)"
   ]
  },
  {
   "cell_type": "code",
   "execution_count": 13,
   "metadata": {},
   "outputs": [
    {
     "name": "stdout",
     "output_type": "stream",
     "text": [
      "+-------+-----+--------+------+-----------+\n",
      "|   date|delay|distance|origin|destination|\n",
      "+-------+-----+--------+------+-----------+\n",
      "|1010710|   31|     590|   SEA|        SFO|\n",
      "|1010955|  104|     590|   SEA|        SFO|\n",
      "|1010730|    5|     590|   SEA|        SFO|\n",
      "|1010710|   31|     590|   SEA|        SFO|\n",
      "|1010955|  104|     590|   SEA|        SFO|\n",
      "|1010730|    5|     590|   SEA|        SFO|\n",
      "|1010710|   31|     590|   SEA|        SFO|\n",
      "|1010955|  104|     590|   SEA|        SFO|\n",
      "|1010730|    5|     590|   SEA|        SFO|\n",
      "+-------+-----+--------+------+-----------+\n",
      "\n"
     ]
    }
   ],
   "source": [
    "# Fails when # cols!=in each table\n",
    "# test_df = sdd_extra.union(sdd_df)\n",
    "# test_df\n",
    "\n",
    "# What about differing col names? Same order\n",
    "sdd_df.union(sdd2_df.withColumnRenamed(\"del2\",'delay')).show()"
   ]
  },
  {
   "cell_type": "code",
   "execution_count": 14,
   "metadata": {},
   "outputs": [
    {
     "data": {
      "text/plain": [
       "[('City', 'string'),\n",
       " ('State', 'string'),\n",
       " ('Country', 'string'),\n",
       " ('IATA', 'string')]"
      ]
     },
     "execution_count": 14,
     "metadata": {},
     "output_type": "execute_result"
    }
   ],
   "source": [
    "codes_df.dtypes"
   ]
  },
  {
   "cell_type": "code",
   "execution_count": 15,
   "metadata": {},
   "outputs": [],
   "source": [
    "j_df = codes_df.join(sdd_df, on=codes_df['IATA']==sdd_df['origin'])"
   ]
  },
  {
   "cell_type": "code",
   "execution_count": 16,
   "metadata": {},
   "outputs": [
    {
     "name": "stdout",
     "output_type": "stream",
     "text": [
      "+-------+-----+-------+----+-------+-----+--------+------+-----------+\n",
      "|   City|State|Country|IATA|   date|delay|distance|origin|destination|\n",
      "+-------+-----+-------+----+-------+-----+--------+------+-----------+\n",
      "|Seattle|   WA|    USA| SEA|1010710|   31|     590|   SEA|        SFO|\n",
      "|Seattle|   WA|    USA| SEA|1010955|  104|     590|   SEA|        SFO|\n",
      "|Seattle|   WA|    USA| SEA|1010730|    5|     590|   SEA|        SFO|\n",
      "+-------+-----+-------+----+-------+-----+--------+------+-----------+\n",
      "\n"
     ]
    }
   ],
   "source": [
    "j_df.show()"
   ]
  },
  {
   "cell_type": "code",
   "execution_count": 17,
   "metadata": {},
   "outputs": [
    {
     "name": "stdout",
     "output_type": "stream",
     "text": [
      "+------+-----------------------------+------------------------------+---------------------------------+\n",
      "|origin|SEA_avg(CAST(date AS BIGINT))|SEA_avg(CAST(delay AS BIGINT))|SEA_avg(CAST(distance AS BIGINT))|\n",
      "+------+-----------------------------+------------------------------+---------------------------------+\n",
      "|   SEA|           1010798.3333333334|            46.666666666666664|                            590.0|\n",
      "+------+-----------------------------+------------------------------+---------------------------------+\n",
      "\n"
     ]
    }
   ],
   "source": [
    "j_df.groupby('origin').pivot('origin').avg().show()"
   ]
  },
  {
   "cell_type": "code",
   "execution_count": 18,
   "metadata": {},
   "outputs": [
    {
     "name": "stdout",
     "output_type": "stream",
     "text": [
      "+------+-----------+-------------+\n",
      "|origin|destination|isnan(origin)|\n",
      "+------+-----------+-------------+\n",
      "|   SEA|        SFO|        false|\n",
      "+------+-----------+-------------+\n",
      "\n"
     ]
    }
   ],
   "source": [
    "j_df.groupby('origin','destination').agg(f.isnan('origin')).show()"
   ]
  },
  {
   "cell_type": "code",
   "execution_count": 19,
   "metadata": {},
   "outputs": [],
   "source": [
    "j_df.write.parquet('test.parquet', mode='overwrite')\n",
    "t_df = spark.read.parquet('test.parquet')"
   ]
  },
  {
   "cell_type": "code",
   "execution_count": 20,
   "metadata": {},
   "outputs": [
    {
     "name": "stdout",
     "output_type": "stream",
     "text": [
      "+-------+-----+-------+----+-------+-----+--------+------+-----------+\n",
      "|   City|State|Country|IATA|   date|delay|distance|origin|destination|\n",
      "+-------+-----+-------+----+-------+-----+--------+------+-----------+\n",
      "|Seattle|   WA|    USA| SEA|1010710|   31|     590|   SEA|        SFO|\n",
      "|Seattle|   WA|    USA| SEA|1010955|  104|     590|   SEA|        SFO|\n",
      "|Seattle|   WA|    USA| SEA|1010730|    5|     590|   SEA|        SFO|\n",
      "+-------+-----+-------+----+-------+-----+--------+------+-----------+\n",
      "\n"
     ]
    }
   ],
   "source": [
    "t_df.show()"
   ]
  },
  {
   "cell_type": "code",
   "execution_count": null,
   "metadata": {},
   "outputs": [],
   "source": []
  }
 ],
 "metadata": {
  "kernelspec": {
   "display_name": "Python 3",
   "language": "python",
   "name": "python3"
  },
  "language_info": {
   "codemirror_mode": {
    "name": "ipython",
    "version": 3
   },
   "file_extension": ".py",
   "mimetype": "text/x-python",
   "name": "python",
   "nbconvert_exporter": "python",
   "pygments_lexer": "ipython3",
   "version": "3.7.7"
  }
 },
 "nbformat": 4,
 "nbformat_minor": 4
}
